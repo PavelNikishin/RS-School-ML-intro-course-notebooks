{
 "cells": [
  {
   "cell_type": "markdown",
   "metadata": {
    "id": "jSKO9T3nC64f"
   },
   "source": [
    "# Classification. Linear models and KNN"
   ]
  },
  {
   "cell_type": "code",
   "execution_count": 2,
   "metadata": {
    "ExecuteTime": {
     "end_time": "2021-03-08T14:56:59.060063Z",
     "start_time": "2021-03-08T14:56:55.492989Z"
    },
    "id": "OysCn-hGC64l"
   },
   "outputs": [],
   "source": [
    "# Basic \n",
    "import numpy as np\n",
    "import pandas as pd\n",
    "import matplotlib.pyplot as plt\n",
    "import os\n",
    "%matplotlib inline\n",
    "\n",
    "# EDA\n",
    "import seaborn as sns\n",
    "from sklearn.impute import SimpleImputer\n",
    "from sklearn.compose import ColumnTransformer\n",
    "from sklearn.preprocessing import StandardScaler, OneHotEncoder\n",
    "from sklearn.metrics import classification_report\n",
    "\n",
    "# Modeling\n",
    "from sklearn.pipeline import Pipeline, make_pipeline\n",
    "from sklearn.model_selection import train_test_split, cross_validate, cross_val_score, GridSearchCV\n",
    "from sklearn.metrics import make_scorer, plot_confusion_matrix, accuracy_score\n",
    "from sklearn.linear_model import SGDClassifier\n"
   ]
  },
  {
   "cell_type": "code",
   "execution_count": 2,
   "metadata": {
    "id": "MkWYamHYmXxc"
   },
   "outputs": [],
   "source": [
    "#from google.colab import files\n",
    "#uploaded = files.upload()\n",
    "#uploaded"
   ]
  },
  {
   "cell_type": "code",
   "execution_count": 3,
   "metadata": {
    "colab": {
     "base_uri": "https://localhost:8080/"
    },
    "id": "P0M_R4kustUu",
    "outputId": "86c3e027-2172-4a88-e3ba-950117995309"
   },
   "outputs": [
    {
     "name": "stdout",
     "output_type": "stream",
     "text": [
      "Mounted at /content/gdrive/\n"
     ]
    }
   ],
   "source": [
    "#from google.colab import drive\n",
    "#drive.mount('/content/gdrive/')\n",
    "\n",
    "#!unzip -q /content/gdrive/MyDrive/Colab_data/porto.zip -d porto"
   ]
  },
  {
   "cell_type": "markdown",
   "metadata": {
    "id": "DqqJcsU4C64y"
   },
   "source": [
    "## Part 2: Porto Seguro’s Safe Driver Prediction"
   ]
  },
  {
   "cell_type": "markdown",
   "metadata": {
    "id": "VgD3YQgDC64z"
   },
   "source": [
    "Let's build a model that predicts the probability that a driver will initiate an auto insurance claim in the next year.\n",
    "Read the detailed description and download the dataset https://www.kaggle.com/c/porto-seguro-safe-driver-prediction/data. Put the data into *./data/porto/*."
   ]
  },
  {
   "cell_type": "code",
   "execution_count": 54,
   "metadata": {
    "ExecuteTime": {
     "end_time": "2021-03-08T14:47:04.704863Z",
     "start_time": "2021-03-08T14:47:02.326286Z"
    },
    "colab": {
     "base_uri": "https://localhost:8080/",
     "height": 245
    },
    "id": "3SjO46ysC64z",
    "outputId": "c78acaab-a88d-426f-ad2f-e740875f62d5"
   },
   "outputs": [
    {
     "data": {
      "text/html": [
       "<div>\n",
       "<style scoped>\n",
       "    .dataframe tbody tr th:only-of-type {\n",
       "        vertical-align: middle;\n",
       "    }\n",
       "\n",
       "    .dataframe tbody tr th {\n",
       "        vertical-align: top;\n",
       "    }\n",
       "\n",
       "    .dataframe thead th {\n",
       "        text-align: right;\n",
       "    }\n",
       "</style>\n",
       "<table border=\"1\" class=\"dataframe\">\n",
       "  <thead>\n",
       "    <tr style=\"text-align: right;\">\n",
       "      <th></th>\n",
       "      <th>target</th>\n",
       "      <th>ps_ind_01</th>\n",
       "      <th>ps_ind_02_cat</th>\n",
       "      <th>ps_ind_03</th>\n",
       "      <th>ps_ind_04_cat</th>\n",
       "      <th>ps_ind_05_cat</th>\n",
       "      <th>ps_ind_06_bin</th>\n",
       "      <th>ps_ind_07_bin</th>\n",
       "      <th>ps_ind_08_bin</th>\n",
       "      <th>ps_ind_09_bin</th>\n",
       "      <th>...</th>\n",
       "      <th>ps_calc_11</th>\n",
       "      <th>ps_calc_12</th>\n",
       "      <th>ps_calc_13</th>\n",
       "      <th>ps_calc_14</th>\n",
       "      <th>ps_calc_15_bin</th>\n",
       "      <th>ps_calc_16_bin</th>\n",
       "      <th>ps_calc_17_bin</th>\n",
       "      <th>ps_calc_18_bin</th>\n",
       "      <th>ps_calc_19_bin</th>\n",
       "      <th>ps_calc_20_bin</th>\n",
       "    </tr>\n",
       "    <tr>\n",
       "      <th>id</th>\n",
       "      <th></th>\n",
       "      <th></th>\n",
       "      <th></th>\n",
       "      <th></th>\n",
       "      <th></th>\n",
       "      <th></th>\n",
       "      <th></th>\n",
       "      <th></th>\n",
       "      <th></th>\n",
       "      <th></th>\n",
       "      <th></th>\n",
       "      <th></th>\n",
       "      <th></th>\n",
       "      <th></th>\n",
       "      <th></th>\n",
       "      <th></th>\n",
       "      <th></th>\n",
       "      <th></th>\n",
       "      <th></th>\n",
       "      <th></th>\n",
       "      <th></th>\n",
       "    </tr>\n",
       "  </thead>\n",
       "  <tbody>\n",
       "    <tr>\n",
       "      <th>7</th>\n",
       "      <td>0</td>\n",
       "      <td>2</td>\n",
       "      <td>2</td>\n",
       "      <td>5</td>\n",
       "      <td>1</td>\n",
       "      <td>0</td>\n",
       "      <td>0</td>\n",
       "      <td>1</td>\n",
       "      <td>0</td>\n",
       "      <td>0</td>\n",
       "      <td>...</td>\n",
       "      <td>9</td>\n",
       "      <td>1</td>\n",
       "      <td>5</td>\n",
       "      <td>8</td>\n",
       "      <td>0</td>\n",
       "      <td>1</td>\n",
       "      <td>1</td>\n",
       "      <td>0</td>\n",
       "      <td>0</td>\n",
       "      <td>1</td>\n",
       "    </tr>\n",
       "    <tr>\n",
       "      <th>9</th>\n",
       "      <td>0</td>\n",
       "      <td>1</td>\n",
       "      <td>1</td>\n",
       "      <td>7</td>\n",
       "      <td>0</td>\n",
       "      <td>0</td>\n",
       "      <td>0</td>\n",
       "      <td>0</td>\n",
       "      <td>1</td>\n",
       "      <td>0</td>\n",
       "      <td>...</td>\n",
       "      <td>3</td>\n",
       "      <td>1</td>\n",
       "      <td>1</td>\n",
       "      <td>9</td>\n",
       "      <td>0</td>\n",
       "      <td>1</td>\n",
       "      <td>1</td>\n",
       "      <td>0</td>\n",
       "      <td>1</td>\n",
       "      <td>0</td>\n",
       "    </tr>\n",
       "    <tr>\n",
       "      <th>13</th>\n",
       "      <td>0</td>\n",
       "      <td>5</td>\n",
       "      <td>4</td>\n",
       "      <td>9</td>\n",
       "      <td>1</td>\n",
       "      <td>0</td>\n",
       "      <td>0</td>\n",
       "      <td>0</td>\n",
       "      <td>1</td>\n",
       "      <td>0</td>\n",
       "      <td>...</td>\n",
       "      <td>4</td>\n",
       "      <td>2</td>\n",
       "      <td>7</td>\n",
       "      <td>7</td>\n",
       "      <td>0</td>\n",
       "      <td>1</td>\n",
       "      <td>1</td>\n",
       "      <td>0</td>\n",
       "      <td>1</td>\n",
       "      <td>0</td>\n",
       "    </tr>\n",
       "    <tr>\n",
       "      <th>16</th>\n",
       "      <td>0</td>\n",
       "      <td>0</td>\n",
       "      <td>1</td>\n",
       "      <td>2</td>\n",
       "      <td>0</td>\n",
       "      <td>0</td>\n",
       "      <td>1</td>\n",
       "      <td>0</td>\n",
       "      <td>0</td>\n",
       "      <td>0</td>\n",
       "      <td>...</td>\n",
       "      <td>2</td>\n",
       "      <td>2</td>\n",
       "      <td>4</td>\n",
       "      <td>9</td>\n",
       "      <td>0</td>\n",
       "      <td>0</td>\n",
       "      <td>0</td>\n",
       "      <td>0</td>\n",
       "      <td>0</td>\n",
       "      <td>0</td>\n",
       "    </tr>\n",
       "    <tr>\n",
       "      <th>17</th>\n",
       "      <td>0</td>\n",
       "      <td>0</td>\n",
       "      <td>2</td>\n",
       "      <td>0</td>\n",
       "      <td>1</td>\n",
       "      <td>0</td>\n",
       "      <td>1</td>\n",
       "      <td>0</td>\n",
       "      <td>0</td>\n",
       "      <td>0</td>\n",
       "      <td>...</td>\n",
       "      <td>3</td>\n",
       "      <td>1</td>\n",
       "      <td>1</td>\n",
       "      <td>3</td>\n",
       "      <td>0</td>\n",
       "      <td>0</td>\n",
       "      <td>0</td>\n",
       "      <td>1</td>\n",
       "      <td>1</td>\n",
       "      <td>0</td>\n",
       "    </tr>\n",
       "  </tbody>\n",
       "</table>\n",
       "<p>5 rows × 58 columns</p>\n",
       "</div>"
      ],
      "text/plain": [
       "    target  ps_ind_01  ps_ind_02_cat  ps_ind_03  ps_ind_04_cat  ps_ind_05_cat  \\\n",
       "id                                                                              \n",
       "7        0          2              2          5              1              0   \n",
       "9        0          1              1          7              0              0   \n",
       "13       0          5              4          9              1              0   \n",
       "16       0          0              1          2              0              0   \n",
       "17       0          0              2          0              1              0   \n",
       "\n",
       "    ps_ind_06_bin  ps_ind_07_bin  ps_ind_08_bin  ps_ind_09_bin  ...  \\\n",
       "id                                                              ...   \n",
       "7               0              1              0              0  ...   \n",
       "9               0              0              1              0  ...   \n",
       "13              0              0              1              0  ...   \n",
       "16              1              0              0              0  ...   \n",
       "17              1              0              0              0  ...   \n",
       "\n",
       "    ps_calc_11  ps_calc_12  ps_calc_13  ps_calc_14  ps_calc_15_bin  \\\n",
       "id                                                                   \n",
       "7            9           1           5           8               0   \n",
       "9            3           1           1           9               0   \n",
       "13           4           2           7           7               0   \n",
       "16           2           2           4           9               0   \n",
       "17           3           1           1           3               0   \n",
       "\n",
       "    ps_calc_16_bin  ps_calc_17_bin  ps_calc_18_bin  ps_calc_19_bin  \\\n",
       "id                                                                   \n",
       "7                1               1               0               0   \n",
       "9                1               1               0               1   \n",
       "13               1               1               0               1   \n",
       "16               0               0               0               0   \n",
       "17               0               0               1               1   \n",
       "\n",
       "    ps_calc_20_bin  \n",
       "id                  \n",
       "7                1  \n",
       "9                0  \n",
       "13               0  \n",
       "16               0  \n",
       "17               0  \n",
       "\n",
       "[5 rows x 58 columns]"
      ]
     },
     "execution_count": 54,
     "metadata": {},
     "output_type": "execute_result"
    }
   ],
   "source": [
    "insurance_data = pd.read_csv(os.path.join('train.csv')).set_index('id')\n",
    "#insurance_data = pd.read_csv(os.path.join('porto','train.csv')).set_index('id')\n",
    "insurance_data.head()"
   ]
  },
  {
   "cell_type": "markdown",
   "metadata": {
    "id": "86XEG0w2C640"
   },
   "source": [
    "Let's skip EDA for now. We'll use SGDClassifier and build a simple baseline: https://scikit-learn.org/stable/modules/generated/sklearn.linear_model.SGDClassifier.html.\n",
    "Note that loss='log' gives logistic regression."
   ]
  },
  {
   "cell_type": "code",
   "execution_count": 55,
   "metadata": {
    "ExecuteTime": {
     "end_time": "2021-03-08T14:47:06.513449Z",
     "start_time": "2021-03-08T14:47:06.349877Z"
    },
    "id": "1gFedpbZC641"
   },
   "outputs": [],
   "source": [
    "y = insurance_data['target']\n",
    "X = insurance_data.drop(columns=['target'])"
   ]
  },
  {
   "cell_type": "code",
   "execution_count": 56,
   "metadata": {
    "ExecuteTime": {
     "end_time": "2021-03-08T14:47:08.180842Z",
     "start_time": "2021-03-08T14:47:08.171866Z"
    },
    "id": "jzO-vTf4C642"
   },
   "outputs": [],
   "source": [
    "numeric_features = [column for column in X if not (column.endswith(\"cat\") or column.endswith(\"bin\"))]\n",
    "numeric_transformer = Pipeline(steps=[('scaler', StandardScaler())])\n",
    "\n",
    "categorical_features = [column for column in X if (column.endswith(\"cat\") or column.endswith(\"bin\"))]\n",
    "categorical_transformer = Pipeline(steps=[('encoder', OneHotEncoder(handle_unknown='ignore'))])\n",
    "\n",
    "preprocessor = ColumnTransformer(\n",
    "    transformers=[\n",
    "        ('num', numeric_transformer, numeric_features),\n",
    "        ('cat', categorical_transformer, categorical_features)])\n",
    "\n",
    "pipeline = Pipeline(steps=[('preprocessor', preprocessor),\n",
    "                           ('classifier', SGDClassifier(loss='log', alpha=0.001, n_jobs=-1, random_state=14))])"
   ]
  },
  {
   "cell_type": "code",
   "execution_count": 57,
   "metadata": {
    "ExecuteTime": {
     "end_time": "2021-03-08T14:47:09.904153Z",
     "start_time": "2021-03-08T14:47:09.468491Z"
    },
    "id": "s06YDNEeC642"
   },
   "outputs": [],
   "source": [
    "X_train, X_valid, y_train, y_valid = train_test_split(X, y, test_size=0.3, random_state=42)"
   ]
  },
  {
   "cell_type": "code",
   "execution_count": 58,
   "metadata": {
    "ExecuteTime": {
     "end_time": "2021-03-08T14:47:14.700339Z",
     "start_time": "2021-03-08T14:47:10.668639Z"
    },
    "id": "f8NTjbz5C643"
   },
   "outputs": [],
   "source": [
    "clf = pipeline.fit(X_train, y_train)"
   ]
  },
  {
   "cell_type": "markdown",
   "metadata": {
    "id": "9EuRFswpC643"
   },
   "source": [
    "We'll calculate the model accuracy:"
   ]
  },
  {
   "cell_type": "code",
   "execution_count": 59,
   "metadata": {
    "ExecuteTime": {
     "end_time": "2021-03-08T14:47:16.412885Z",
     "start_time": "2021-03-08T14:47:15.548159Z"
    },
    "colab": {
     "base_uri": "https://localhost:8080/"
    },
    "id": "ZNb7F3IHC643",
    "outputId": "63832279-2a2a-4ca9-ce75-a6196ea96025"
   },
   "outputs": [
    {
     "data": {
      "text/plain": [
       "0.9631224658945812"
      ]
     },
     "execution_count": 59,
     "metadata": {},
     "output_type": "execute_result"
    }
   ],
   "source": [
    "accuracy_score(y_true=y_valid, y_pred=clf.predict(X_valid))"
   ]
  },
  {
   "cell_type": "markdown",
   "metadata": {
    "id": "rDg82VGNC644"
   },
   "source": [
    "Wow! Our model gets ~0.963 accuracy! But is it really good?...\n",
    "\n",
    "Let's plot the confusion matrix and analyze the errors."
   ]
  },
  {
   "cell_type": "code",
   "execution_count": 10,
   "metadata": {
    "ExecuteTime": {
     "end_time": "2021-03-07T09:46:55.587547Z",
     "start_time": "2021-03-07T09:46:54.053165Z"
    },
    "colab": {
     "base_uri": "https://localhost:8080/",
     "height": 279
    },
    "id": "qIfSHQ-kC644",
    "outputId": "921e2803-e78f-4c08-dd0e-08d1989a09aa"
   },
   "outputs": [
    {
     "data": {
      "image/png": "[encoded data removed]",
      "text/plain": [
       "<Figure size 432x288 with 2 Axes>"
      ]
     },
     "metadata": {
      "needs_background": "light"
     },
     "output_type": "display_data"
    }
   ],
   "source": [
    "disp = plot_confusion_matrix(clf, X_valid, y_valid,\n",
    "                             cmap=plt.cm.Blues,\n",
    "                             normalize=None)"
   ]
  },
  {
   "cell_type": "markdown",
   "metadata": {
    "id": "jAUnNHUsC645"
   },
   "source": [
    "Well, it turns out that our model is completely useless. Let's calculate some basic statistics:"
   ]
  },
  {
   "cell_type": "code",
   "execution_count": 11,
   "metadata": {
    "ExecuteTime": {
     "end_time": "2021-03-07T09:46:58.854495Z",
     "start_time": "2021-03-07T09:46:57.838242Z"
    },
    "colab": {
     "base_uri": "https://localhost:8080/",
     "height": 308
    },
    "id": "cLIh7yd1C645",
    "outputId": "dafdda4b-4d3a-4874-8ba4-319c7121b714",
    "scrolled": true
   },
   "outputs": [
    {
     "data": {
      "text/html": [
       "<div>\n",
       "<style scoped>\n",
       "    .dataframe tbody tr th:only-of-type {\n",
       "        vertical-align: middle;\n",
       "    }\n",
       "\n",
       "    .dataframe tbody tr th {\n",
       "        vertical-align: top;\n",
       "    }\n",
       "\n",
       "    .dataframe thead th {\n",
       "        text-align: right;\n",
       "    }\n",
       "</style>\n",
       "<table border=\"1\" class=\"dataframe\">\n",
       "  <thead>\n",
       "    <tr style=\"text-align: right;\">\n",
       "      <th></th>\n",
       "      <th>target</th>\n",
       "      <th>ps_ind_01</th>\n",
       "      <th>ps_ind_02_cat</th>\n",
       "      <th>ps_ind_03</th>\n",
       "      <th>ps_ind_04_cat</th>\n",
       "      <th>ps_ind_05_cat</th>\n",
       "      <th>ps_ind_06_bin</th>\n",
       "      <th>ps_ind_07_bin</th>\n",
       "      <th>ps_ind_08_bin</th>\n",
       "      <th>ps_ind_09_bin</th>\n",
       "      <th>...</th>\n",
       "      <th>ps_calc_11</th>\n",
       "      <th>ps_calc_12</th>\n",
       "      <th>ps_calc_13</th>\n",
       "      <th>ps_calc_14</th>\n",
       "      <th>ps_calc_15_bin</th>\n",
       "      <th>ps_calc_16_bin</th>\n",
       "      <th>ps_calc_17_bin</th>\n",
       "      <th>ps_calc_18_bin</th>\n",
       "      <th>ps_calc_19_bin</th>\n",
       "      <th>ps_calc_20_bin</th>\n",
       "    </tr>\n",
       "  </thead>\n",
       "  <tbody>\n",
       "    <tr>\n",
       "      <th>count</th>\n",
       "      <td>595212.000000</td>\n",
       "      <td>595212.000000</td>\n",
       "      <td>595212.000000</td>\n",
       "      <td>595212.000000</td>\n",
       "      <td>595212.000000</td>\n",
       "      <td>595212.000000</td>\n",
       "      <td>595212.000000</td>\n",
       "      <td>595212.000000</td>\n",
       "      <td>595212.000000</td>\n",
       "      <td>595212.000000</td>\n",
       "      <td>...</td>\n",
       "      <td>595212.000000</td>\n",
       "      <td>595212.000000</td>\n",
       "      <td>595212.000000</td>\n",
       "      <td>595212.000000</td>\n",
       "      <td>595212.000000</td>\n",
       "      <td>595212.000000</td>\n",
       "      <td>595212.000000</td>\n",
       "      <td>595212.000000</td>\n",
       "      <td>595212.000000</td>\n",
       "      <td>595212.000000</td>\n",
       "    </tr>\n",
       "    <tr>\n",
       "      <th>mean</th>\n",
       "      <td>0.036448</td>\n",
       "      <td>1.900378</td>\n",
       "      <td>1.358943</td>\n",
       "      <td>4.423318</td>\n",
       "      <td>0.416794</td>\n",
       "      <td>0.405188</td>\n",
       "      <td>0.393742</td>\n",
       "      <td>0.257033</td>\n",
       "      <td>0.163921</td>\n",
       "      <td>0.185304</td>\n",
       "      <td>...</td>\n",
       "      <td>5.441382</td>\n",
       "      <td>1.441918</td>\n",
       "      <td>2.872288</td>\n",
       "      <td>7.539026</td>\n",
       "      <td>0.122427</td>\n",
       "      <td>0.627840</td>\n",
       "      <td>0.554182</td>\n",
       "      <td>0.287182</td>\n",
       "      <td>0.349024</td>\n",
       "      <td>0.153318</td>\n",
       "    </tr>\n",
       "    <tr>\n",
       "      <th>std</th>\n",
       "      <td>0.187401</td>\n",
       "      <td>1.983789</td>\n",
       "      <td>0.664594</td>\n",
       "      <td>2.699902</td>\n",
       "      <td>0.493311</td>\n",
       "      <td>1.350642</td>\n",
       "      <td>0.488579</td>\n",
       "      <td>0.436998</td>\n",
       "      <td>0.370205</td>\n",
       "      <td>0.388544</td>\n",
       "      <td>...</td>\n",
       "      <td>2.332871</td>\n",
       "      <td>1.202963</td>\n",
       "      <td>1.694887</td>\n",
       "      <td>2.746652</td>\n",
       "      <td>0.327779</td>\n",
       "      <td>0.483381</td>\n",
       "      <td>0.497056</td>\n",
       "      <td>0.452447</td>\n",
       "      <td>0.476662</td>\n",
       "      <td>0.360295</td>\n",
       "    </tr>\n",
       "    <tr>\n",
       "      <th>min</th>\n",
       "      <td>0.000000</td>\n",
       "      <td>0.000000</td>\n",
       "      <td>-1.000000</td>\n",
       "      <td>0.000000</td>\n",
       "      <td>-1.000000</td>\n",
       "      <td>-1.000000</td>\n",
       "      <td>0.000000</td>\n",
       "      <td>0.000000</td>\n",
       "      <td>0.000000</td>\n",
       "      <td>0.000000</td>\n",
       "      <td>...</td>\n",
       "      <td>0.000000</td>\n",
       "      <td>0.000000</td>\n",
       "      <td>0.000000</td>\n",
       "      <td>0.000000</td>\n",
       "      <td>0.000000</td>\n",
       "      <td>0.000000</td>\n",
       "      <td>0.000000</td>\n",
       "      <td>0.000000</td>\n",
       "      <td>0.000000</td>\n",
       "      <td>0.000000</td>\n",
       "    </tr>\n",
       "    <tr>\n",
       "      <th>25%</th>\n",
       "      <td>0.000000</td>\n",
       "      <td>0.000000</td>\n",
       "      <td>1.000000</td>\n",
       "      <td>2.000000</td>\n",
       "      <td>0.000000</td>\n",
       "      <td>0.000000</td>\n",
       "      <td>0.000000</td>\n",
       "      <td>0.000000</td>\n",
       "      <td>0.000000</td>\n",
       "      <td>0.000000</td>\n",
       "      <td>...</td>\n",
       "      <td>4.000000</td>\n",
       "      <td>1.000000</td>\n",
       "      <td>2.000000</td>\n",
       "      <td>6.000000</td>\n",
       "      <td>0.000000</td>\n",
       "      <td>0.000000</td>\n",
       "      <td>0.000000</td>\n",
       "      <td>0.000000</td>\n",
       "      <td>0.000000</td>\n",
       "      <td>0.000000</td>\n",
       "    </tr>\n",
       "    <tr>\n",
       "      <th>50%</th>\n",
       "      <td>0.000000</td>\n",
       "      <td>1.000000</td>\n",
       "      <td>1.000000</td>\n",
       "      <td>4.000000</td>\n",
       "      <td>0.000000</td>\n",
       "      <td>0.000000</td>\n",
       "      <td>0.000000</td>\n",
       "      <td>0.000000</td>\n",
       "      <td>0.000000</td>\n",
       "      <td>0.000000</td>\n",
       "      <td>...</td>\n",
       "      <td>5.000000</td>\n",
       "      <td>1.000000</td>\n",
       "      <td>3.000000</td>\n",
       "      <td>7.000000</td>\n",
       "      <td>0.000000</td>\n",
       "      <td>1.000000</td>\n",
       "      <td>1.000000</td>\n",
       "      <td>0.000000</td>\n",
       "      <td>0.000000</td>\n",
       "      <td>0.000000</td>\n",
       "    </tr>\n",
       "    <tr>\n",
       "      <th>75%</th>\n",
       "      <td>0.000000</td>\n",
       "      <td>3.000000</td>\n",
       "      <td>2.000000</td>\n",
       "      <td>6.000000</td>\n",
       "      <td>1.000000</td>\n",
       "      <td>0.000000</td>\n",
       "      <td>1.000000</td>\n",
       "      <td>1.000000</td>\n",
       "      <td>0.000000</td>\n",
       "      <td>0.000000</td>\n",
       "      <td>...</td>\n",
       "      <td>7.000000</td>\n",
       "      <td>2.000000</td>\n",
       "      <td>4.000000</td>\n",
       "      <td>9.000000</td>\n",
       "      <td>0.000000</td>\n",
       "      <td>1.000000</td>\n",
       "      <td>1.000000</td>\n",
       "      <td>1.000000</td>\n",
       "      <td>1.000000</td>\n",
       "      <td>0.000000</td>\n",
       "    </tr>\n",
       "    <tr>\n",
       "      <th>max</th>\n",
       "      <td>1.000000</td>\n",
       "      <td>7.000000</td>\n",
       "      <td>4.000000</td>\n",
       "      <td>11.000000</td>\n",
       "      <td>1.000000</td>\n",
       "      <td>6.000000</td>\n",
       "      <td>1.000000</td>\n",
       "      <td>1.000000</td>\n",
       "      <td>1.000000</td>\n",
       "      <td>1.000000</td>\n",
       "      <td>...</td>\n",
       "      <td>19.000000</td>\n",
       "      <td>10.000000</td>\n",
       "      <td>13.000000</td>\n",
       "      <td>23.000000</td>\n",
       "      <td>1.000000</td>\n",
       "      <td>1.000000</td>\n",
       "      <td>1.000000</td>\n",
       "      <td>1.000000</td>\n",
       "      <td>1.000000</td>\n",
       "      <td>1.000000</td>\n",
       "    </tr>\n",
       "  </tbody>\n",
       "</table>\n",
       "<p>8 rows × 58 columns</p>\n",
       "</div>"
      ],
      "text/plain": [
       "              target      ps_ind_01  ps_ind_02_cat      ps_ind_03  \\\n",
       "count  595212.000000  595212.000000  595212.000000  595212.000000   \n",
       "mean        0.036448       1.900378       1.358943       4.423318   \n",
       "std         0.187401       1.983789       0.664594       2.699902   \n",
       "min         0.000000       0.000000      -1.000000       0.000000   \n",
       "25%         0.000000       0.000000       1.000000       2.000000   \n",
       "50%         0.000000       1.000000       1.000000       4.000000   \n",
       "75%         0.000000       3.000000       2.000000       6.000000   \n",
       "max         1.000000       7.000000       4.000000      11.000000   \n",
       "\n",
       "       ps_ind_04_cat  ps_ind_05_cat  ps_ind_06_bin  ps_ind_07_bin  \\\n",
       "count  595212.000000  595212.000000  595212.000000  595212.000000   \n",
       "mean        0.416794       0.405188       0.393742       0.257033   \n",
       "std         0.493311       1.350642       0.488579       0.436998   \n",
       "min        -1.000000      -1.000000       0.000000       0.000000   \n",
       "25%         0.000000       0.000000       0.000000       0.000000   \n",
       "50%         0.000000       0.000000       0.000000       0.000000   \n",
       "75%         1.000000       0.000000       1.000000       1.000000   \n",
       "max         1.000000       6.000000       1.000000       1.000000   \n",
       "\n",
       "       ps_ind_08_bin  ps_ind_09_bin  ...     ps_calc_11     ps_calc_12  \\\n",
       "count  595212.000000  595212.000000  ...  595212.000000  595212.000000   \n",
       "mean        0.163921       0.185304  ...       5.441382       1.441918   \n",
       "std         0.370205       0.388544  ...       2.332871       1.202963   \n",
       "min         0.000000       0.000000  ...       0.000000       0.000000   \n",
       "25%         0.000000       0.000000  ...       4.000000       1.000000   \n",
       "50%         0.000000       0.000000  ...       5.000000       1.000000   \n",
       "75%         0.000000       0.000000  ...       7.000000       2.000000   \n",
       "max         1.000000       1.000000  ...      19.000000      10.000000   \n",
       "\n",
       "          ps_calc_13     ps_calc_14  ps_calc_15_bin  ps_calc_16_bin  \\\n",
       "count  595212.000000  595212.000000   595212.000000   595212.000000   \n",
       "mean        2.872288       7.539026        0.122427        0.627840   \n",
       "std         1.694887       2.746652        0.327779        0.483381   \n",
       "min         0.000000       0.000000        0.000000        0.000000   \n",
       "25%         2.000000       6.000000        0.000000        0.000000   \n",
       "50%         3.000000       7.000000        0.000000        1.000000   \n",
       "75%         4.000000       9.000000        0.000000        1.000000   \n",
       "max        13.000000      23.000000        1.000000        1.000000   \n",
       "\n",
       "       ps_calc_17_bin  ps_calc_18_bin  ps_calc_19_bin  ps_calc_20_bin  \n",
       "count   595212.000000   595212.000000   595212.000000   595212.000000  \n",
       "mean         0.554182        0.287182        0.349024        0.153318  \n",
       "std          0.497056        0.452447        0.476662        0.360295  \n",
       "min          0.000000        0.000000        0.000000        0.000000  \n",
       "25%          0.000000        0.000000        0.000000        0.000000  \n",
       "50%          1.000000        0.000000        0.000000        0.000000  \n",
       "75%          1.000000        1.000000        1.000000        0.000000  \n",
       "max          1.000000        1.000000        1.000000        1.000000  \n",
       "\n",
       "[8 rows x 58 columns]"
      ]
     },
     "execution_count": 11,
     "metadata": {},
     "output_type": "execute_result"
    }
   ],
   "source": [
    "insurance_data.describe()"
   ]
  },
  {
   "cell_type": "markdown",
   "metadata": {
    "id": "TR53TgsKC646"
   },
   "source": [
    "As you see, there are less than 4% of positive examples, so we have to deal with a highly imbalanced dataset."
   ]
  },
  {
   "cell_type": "code",
   "execution_count": 60,
   "metadata": {
    "ExecuteTime": {
     "end_time": "2021-03-08T14:47:21.559091Z",
     "start_time": "2021-03-08T14:47:20.572817Z"
    }
   },
   "outputs": [
    {
     "data": {
      "text/plain": [
       "0.2558723581569817"
      ]
     },
     "execution_count": 60,
     "metadata": {},
     "output_type": "execute_result"
    }
   ],
   "source": [
    "y_pred = clf.predict_proba(X_valid)[:, 1]\n",
    "gini_normalized(y_valid, y_pred)"
   ]
  },
  {
   "cell_type": "code",
   "execution_count": 12,
   "metadata": {
    "ExecuteTime": {
     "end_time": "2021-03-07T09:47:00.752842Z",
     "start_time": "2021-03-07T09:47:00.612217Z"
    },
    "colab": {
     "base_uri": "https://localhost:8080/",
     "height": 283
    },
    "id": "EswbA_R6C646",
    "outputId": "82081790-12de-4010-8669-89f72ad41082"
   },
   "outputs": [
    {
     "data": {
      "image/png": "[encoded data removed]",
      "text/plain": [
       "<Figure size 432x288 with 1 Axes>"
      ]
     },
     "metadata": {
      "needs_background": "light"
     },
     "output_type": "display_data"
    }
   ],
   "source": [
    "sns.countplot(x='target', data=insurance_data)\n",
    "plt.show()"
   ]
  },
  {
   "cell_type": "markdown",
   "metadata": {
    "id": "tEkKVWahC647"
   },
   "source": [
    "Accuracy is not informative here and the Normalized Gini Coefficient will be used instead: https://www.kaggle.com/c/porto-seguro-safe-driver-prediction/overview/evaluation."
   ]
  },
  {
   "cell_type": "markdown",
   "metadata": {
    "id": "an6vlzl13tOM"
   },
   "source": [
    "Построить графики ROC и NGini"
   ]
  },
  {
   "cell_type": "code",
   "execution_count": 13,
   "metadata": {
    "ExecuteTime": {
     "end_time": "2021-03-07T09:47:03.058404Z",
     "start_time": "2021-03-07T09:47:03.052393Z"
    },
    "id": "4co8X49jC647"
   },
   "outputs": [],
   "source": [
    "# Code for calculating Normalized gini coefficient\n",
    "# https://www.kaggle.com/c/ClaimPredictionChallenge/discussion/703\n",
    "def gini(actual, pred, cmpcol = 0, sortcol = 1):  \n",
    "    assert(len(actual) == len(pred))  \n",
    "    epsilon = 1e-7\n",
    "    values = np.asarray(np.c_[actual, pred, np.arange(len(actual))], dtype=np.float)  \n",
    "    values = values[np.lexsort((values[:, 2], -1 * values[:, 1]))]  \n",
    "    total = values[:, 0].sum() \n",
    "    gini_sum = (values[:, 0].cumsum().sum() + epsilon) / (total + epsilon)  \n",
    "    gini_sum -= (len(actual) + 1) / 2  \n",
    "    return gini_sum / len(actual)  \n",
    "  \n",
    "def gini_normalized(a, p):  \n",
    "    '''Function to calculate the normalized gini coefficient'''\n",
    "\n",
    "    return gini(a, p) / gini(a, a)"
   ]
  },
  {
   "cell_type": "markdown",
   "metadata": {
    "id": "KeDyxKUEC647"
   },
   "source": [
    "**(1.5 points)** Prove that the **Normalized Gini Coefficient** is equivalent to **2 x AUC - 1** :"
   ]
  },
  {
   "cell_type": "markdown",
   "metadata": {
    "id": "RpBT4gWMxHMQ"
   },
   "source": [
    "Обычно в статьях дается простое объяснение c картинкой вроде такой:"
   ]
  },
  {
   "cell_type": "markdown",
   "metadata": {
    "id": "cFYYsmSHy8lU"
   },
   "source": [
    "![image.png](data:image/png;base64,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)"
   ]
  },
  {
   "cell_type": "markdown",
   "metadata": {
    "id": "8tJZlzrdxCua"
   },
   "source": [
    "Gini = B / (A + B)\n",
    "\n",
    "A + B = 0.5\n",
    "\n",
    "Из чего следует Gini = B / 0.5 = 2 * B\n",
    "\n",
    "AUC = B + 0.5\n",
    "\n",
    "Тогда можно подставить Gini = 2*(AUC - 0.5) = 2*AUC - 1\n",
    "\n",
    "Но, иногда утверждается, что это не корректно т.к. для Gini Coefficient строится Lift сurve (или Gain сurve в других источниках) и выглядит она иначе.\n",
    "\n",
    "ROC curve строится в координатах False Positive Rate / True Positive Rate. А Gain сurve в координатах Positive Rate / True Positive Rate и никогда не попадает в точку (0, 1) даже для идеальной модели. А Gini Coefficient будет соотношением площадей под model gain сurve - 0.5 и ideal model gain сurve - 0.5"
   ]
  },
  {
   "cell_type": "markdown",
   "metadata": {
    "id": "Z91xS3hpEWnF"
   },
   "source": [
    "![image.png](data:image/png;base64,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)"
   ]
  },
  {
   "cell_type": "markdown",
   "metadata": {
    "id": "GA_Dhub9EWge"
   },
   "source": [
    "По выводу равенства подробно описано здесь: [https://habr.com/ru/company/ods/blog/350440/](https://habr.com/ru/company/ods/blog/350440/)\n",
    "\n",
    "Там же есть доказательство:"
   ]
  },
  {
   "cell_type": "markdown",
   "metadata": {
    "id": "9YlDsb2jEWZP"
   },
   "source": [
    "![image.png](data:image/png;base64,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)"
   ]
  },
  {
   "cell_type": "markdown",
   "metadata": {
    "id": "eJXCpUDbEWP3"
   },
   "source": [
    "![image.png](data:image/png;base64,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)"
   ]
  },
  {
   "cell_type": "markdown",
   "metadata": {
    "id": "Yur1PWELC648"
   },
   "source": [
    "**(0.5 points)** By the way, what other metrics could you suggest for this problem?"
   ]
  },
  {
   "cell_type": "markdown",
   "metadata": {
    "id": "tWbGDKnBqznW"
   },
   "source": [
    "Можно посмотреть \"macro-усредненные\" по классам метрики:"
   ]
  },
  {
   "cell_type": "code",
   "execution_count": 15,
   "metadata": {
    "ExecuteTime": {
     "end_time": "2021-03-07T09:48:05.987870Z",
     "start_time": "2021-03-07T09:48:04.943634Z"
    },
    "colab": {
     "base_uri": "https://localhost:8080/",
     "height": 225
    },
    "id": "qOifIaOJnNqh",
    "outputId": "3cdd0982-3208-4dd1-de77-b2a22e418857"
   },
   "outputs": [
    {
     "data": {
      "text/html": [
       "<div>\n",
       "<style scoped>\n",
       "    .dataframe tbody tr th:only-of-type {\n",
       "        vertical-align: middle;\n",
       "    }\n",
       "\n",
       "    .dataframe tbody tr th {\n",
       "        vertical-align: top;\n",
       "    }\n",
       "\n",
       "    .dataframe thead th {\n",
       "        text-align: right;\n",
       "    }\n",
       "</style>\n",
       "<table border=\"1\" class=\"dataframe\">\n",
       "  <thead>\n",
       "    <tr style=\"text-align: right;\">\n",
       "      <th></th>\n",
       "      <th>0</th>\n",
       "      <th>1</th>\n",
       "      <th>accuracy</th>\n",
       "      <th>macro avg</th>\n",
       "      <th>weighted avg</th>\n",
       "    </tr>\n",
       "  </thead>\n",
       "  <tbody>\n",
       "    <tr>\n",
       "      <th>precision</th>\n",
       "      <td>0.963122</td>\n",
       "      <td>0.0</td>\n",
       "      <td>0.963122</td>\n",
       "      <td>0.481561</td>\n",
       "      <td>0.927605</td>\n",
       "    </tr>\n",
       "    <tr>\n",
       "      <th>recall</th>\n",
       "      <td>1.000000</td>\n",
       "      <td>0.0</td>\n",
       "      <td>0.963122</td>\n",
       "      <td>0.500000</td>\n",
       "      <td>0.963122</td>\n",
       "    </tr>\n",
       "    <tr>\n",
       "      <th>f1-score</th>\n",
       "      <td>0.981215</td>\n",
       "      <td>0.0</td>\n",
       "      <td>0.963122</td>\n",
       "      <td>0.490607</td>\n",
       "      <td>0.945030</td>\n",
       "    </tr>\n",
       "    <tr>\n",
       "      <th>support</th>\n",
       "      <td>171979.000000</td>\n",
       "      <td>6585.0</td>\n",
       "      <td>0.963122</td>\n",
       "      <td>178564.000000</td>\n",
       "      <td>178564.000000</td>\n",
       "    </tr>\n",
       "  </tbody>\n",
       "</table>\n",
       "</div>"
      ],
      "text/plain": [
       "                       0       1  accuracy      macro avg   weighted avg\n",
       "precision       0.963122     0.0  0.963122       0.481561       0.927605\n",
       "recall          1.000000     0.0  0.963122       0.500000       0.963122\n",
       "f1-score        0.981215     0.0  0.963122       0.490607       0.945030\n",
       "support    171979.000000  6585.0  0.963122  178564.000000  178564.000000"
      ]
     },
     "execution_count": 15,
     "metadata": {},
     "output_type": "execute_result"
    }
   ],
   "source": [
    "from sklearn.metrics import classification_report\n",
    "report_dict = classification_report(y_valid, clf.predict(X_valid), output_dict=True,zero_division=0)\n",
    "pd.DataFrame(report_dict)"
   ]
  },
  {
   "cell_type": "markdown",
   "metadata": {
    "id": "vbbnURp0nNXR"
   },
   "source": [
    "Можно смотреть AUC-ROC, для сравнения алгоритмов. Хотя, для обучения это не всегда лучший выбор. ROC ведь еще зависит от выбора конкретной вероятности.\n",
    "\n",
    "Для несбалансированных выборок хорошо подходят F1-score и [Matthews correlation coefficient](https://en.wikipedia.org/wiki/Matthews_correlation_coefficient)"
   ]
  },
  {
   "cell_type": "code",
   "execution_count": 16,
   "metadata": {
    "ExecuteTime": {
     "end_time": "2021-03-07T09:48:19.377543Z",
     "start_time": "2021-03-07T09:48:16.621910Z"
    },
    "colab": {
     "base_uri": "https://localhost:8080/"
    },
    "id": "M4WSas2xr_HR",
    "outputId": "87480470-2ee4-4f7c-eaf7-118ea698c933"
   },
   "outputs": [
    {
     "name": "stdout",
     "output_type": "stream",
     "text": [
      "0.5\n",
      "0.0\n",
      "0.0\n"
     ]
    },
    {
     "name": "stderr",
     "output_type": "stream",
     "text": [
      "D:\\Anaconda\\lib\\site-packages\\sklearn\\metrics\\_classification.py:846: RuntimeWarning: invalid value encountered in double_scalars\n",
      "  mcc = cov_ytyp / np.sqrt(cov_ytyt * cov_ypyp)\n"
     ]
    }
   ],
   "source": [
    "from sklearn.metrics import roc_auc_score, f1_score, matthews_corrcoef\n",
    "\n",
    "print(roc_auc_score(y_valid, clf.predict(X_valid)))\n",
    "print(f1_score(y_valid, clf.predict(X_valid)))\n",
    "print(matthews_corrcoef(y_valid, clf.predict(X_valid)))"
   ]
  },
  {
   "cell_type": "markdown",
   "metadata": {
    "id": "vc4NG28LC649"
   },
   "source": [
    "Let's calculate the Normalized Gini Coefficient:"
   ]
  },
  {
   "cell_type": "code",
   "execution_count": 17,
   "metadata": {
    "ExecuteTime": {
     "end_time": "2021-03-07T09:48:26.708401Z",
     "start_time": "2021-03-07T09:48:25.828597Z"
    },
    "id": "gdkCncVoC649"
   },
   "outputs": [],
   "source": [
    "y_pred = clf.predict_proba(X_valid)[:, 1]"
   ]
  },
  {
   "cell_type": "code",
   "execution_count": 18,
   "metadata": {
    "ExecuteTime": {
     "end_time": "2021-03-07T09:48:26.766255Z",
     "start_time": "2021-03-07T09:48:26.709398Z"
    },
    "colab": {
     "base_uri": "https://localhost:8080/"
    },
    "id": "Hi1KZW7oC649",
    "outputId": "82b8a119-3264-4488-a43a-101ef31c35d7"
   },
   "outputs": [
    {
     "data": {
      "text/plain": [
       "0.2558723581569817"
      ]
     },
     "execution_count": 18,
     "metadata": {},
     "output_type": "execute_result"
    }
   ],
   "source": [
    "gini_normalized(y_valid, y_pred)"
   ]
  },
  {
   "cell_type": "markdown",
   "metadata": {
    "id": "1lEKWAYQC64-"
   },
   "source": []
  },
  {
   "cell_type": "markdown",
   "metadata": {
    "id": "3reGsR8qWux7"
   },
   "source": [
    "# EDA"
   ]
  },
  {
   "cell_type": "code",
   "execution_count": null,
   "metadata": {
    "colab": {
     "base_uri": "https://localhost:8080/",
     "height": 248
    },
    "id": "DqMt93Rlw-cs",
    "outputId": "15f21105-9b23-4fbd-9e58-8d6dfadce97b"
   },
   "outputs": [
    {
     "data": {
      "text/html": [
       "<div>\n",
       "<style scoped>\n",
       "    .dataframe tbody tr th:only-of-type {\n",
       "        vertical-align: middle;\n",
       "    }\n",
       "\n",
       "    .dataframe tbody tr th {\n",
       "        vertical-align: top;\n",
       "    }\n",
       "\n",
       "    .dataframe thead th {\n",
       "        text-align: right;\n",
       "    }\n",
       "</style>\n",
       "<table border=\"1\" class=\"dataframe\">\n",
       "  <thead>\n",
       "    <tr style=\"text-align: right;\">\n",
       "      <th></th>\n",
       "      <th>target</th>\n",
       "      <th>ps_ind_01</th>\n",
       "      <th>ps_ind_02_cat</th>\n",
       "      <th>ps_ind_03</th>\n",
       "      <th>ps_ind_04_cat</th>\n",
       "      <th>ps_ind_05_cat</th>\n",
       "      <th>ps_ind_06_bin</th>\n",
       "      <th>ps_ind_07_bin</th>\n",
       "      <th>ps_ind_08_bin</th>\n",
       "      <th>ps_ind_09_bin</th>\n",
       "      <th>ps_ind_10_bin</th>\n",
       "      <th>ps_ind_11_bin</th>\n",
       "      <th>ps_ind_12_bin</th>\n",
       "      <th>ps_ind_13_bin</th>\n",
       "      <th>ps_ind_14</th>\n",
       "      <th>ps_ind_15</th>\n",
       "      <th>ps_ind_16_bin</th>\n",
       "      <th>ps_ind_17_bin</th>\n",
       "      <th>ps_ind_18_bin</th>\n",
       "      <th>ps_reg_01</th>\n",
       "      <th>ps_reg_02</th>\n",
       "      <th>ps_reg_03</th>\n",
       "      <th>ps_car_01_cat</th>\n",
       "      <th>ps_car_02_cat</th>\n",
       "      <th>ps_car_03_cat</th>\n",
       "      <th>ps_car_04_cat</th>\n",
       "      <th>ps_car_05_cat</th>\n",
       "      <th>ps_car_06_cat</th>\n",
       "      <th>ps_car_07_cat</th>\n",
       "      <th>ps_car_08_cat</th>\n",
       "      <th>ps_car_09_cat</th>\n",
       "      <th>ps_car_10_cat</th>\n",
       "      <th>ps_car_11_cat</th>\n",
       "      <th>ps_car_11</th>\n",
       "      <th>ps_car_12</th>\n",
       "      <th>ps_car_13</th>\n",
       "      <th>ps_car_14</th>\n",
       "      <th>ps_car_15</th>\n",
       "      <th>ps_calc_01</th>\n",
       "      <th>ps_calc_02</th>\n",
       "      <th>ps_calc_03</th>\n",
       "      <th>ps_calc_04</th>\n",
       "      <th>ps_calc_05</th>\n",
       "      <th>ps_calc_06</th>\n",
       "      <th>ps_calc_07</th>\n",
       "      <th>ps_calc_08</th>\n",
       "      <th>ps_calc_09</th>\n",
       "      <th>ps_calc_10</th>\n",
       "      <th>ps_calc_11</th>\n",
       "      <th>ps_calc_12</th>\n",
       "      <th>ps_calc_13</th>\n",
       "      <th>ps_calc_14</th>\n",
       "      <th>ps_calc_15_bin</th>\n",
       "      <th>ps_calc_16_bin</th>\n",
       "      <th>ps_calc_17_bin</th>\n",
       "      <th>ps_calc_18_bin</th>\n",
       "      <th>ps_calc_19_bin</th>\n",
       "      <th>ps_calc_20_bin</th>\n",
       "    </tr>\n",
       "    <tr>\n",
       "      <th>id</th>\n",
       "      <th></th>\n",
       "      <th></th>\n",
       "      <th></th>\n",
       "      <th></th>\n",
       "      <th></th>\n",
       "      <th></th>\n",
       "      <th></th>\n",
       "      <th></th>\n",
       "      <th></th>\n",
       "      <th></th>\n",
       "      <th></th>\n",
       "      <th></th>\n",
       "      <th></th>\n",
       "      <th></th>\n",
       "      <th></th>\n",
       "      <th></th>\n",
       "      <th></th>\n",
       "      <th></th>\n",
       "      <th></th>\n",
       "      <th></th>\n",
       "      <th></th>\n",
       "      <th></th>\n",
       "      <th></th>\n",
       "      <th></th>\n",
       "      <th></th>\n",
       "      <th></th>\n",
       "      <th></th>\n",
       "      <th></th>\n",
       "      <th></th>\n",
       "      <th></th>\n",
       "      <th></th>\n",
       "      <th></th>\n",
       "      <th></th>\n",
       "      <th></th>\n",
       "      <th></th>\n",
       "      <th></th>\n",
       "      <th></th>\n",
       "      <th></th>\n",
       "      <th></th>\n",
       "      <th></th>\n",
       "      <th></th>\n",
       "      <th></th>\n",
       "      <th></th>\n",
       "      <th></th>\n",
       "      <th></th>\n",
       "      <th></th>\n",
       "      <th></th>\n",
       "      <th></th>\n",
       "      <th></th>\n",
       "      <th></th>\n",
       "      <th></th>\n",
       "      <th></th>\n",
       "      <th></th>\n",
       "      <th></th>\n",
       "      <th></th>\n",
       "      <th></th>\n",
       "      <th></th>\n",
       "      <th></th>\n",
       "    </tr>\n",
       "  </thead>\n",
       "  <tbody>\n",
       "    <tr>\n",
       "      <th>7</th>\n",
       "      <td>0</td>\n",
       "      <td>2</td>\n",
       "      <td>2</td>\n",
       "      <td>5</td>\n",
       "      <td>1</td>\n",
       "      <td>0</td>\n",
       "      <td>0</td>\n",
       "      <td>1</td>\n",
       "      <td>0</td>\n",
       "      <td>0</td>\n",
       "      <td>0</td>\n",
       "      <td>0</td>\n",
       "      <td>0</td>\n",
       "      <td>0</td>\n",
       "      <td>0</td>\n",
       "      <td>11</td>\n",
       "      <td>0</td>\n",
       "      <td>1</td>\n",
       "      <td>0</td>\n",
       "      <td>0.7</td>\n",
       "      <td>0.2</td>\n",
       "      <td>0.718070</td>\n",
       "      <td>10</td>\n",
       "      <td>1</td>\n",
       "      <td>-1</td>\n",
       "      <td>0</td>\n",
       "      <td>1</td>\n",
       "      <td>4</td>\n",
       "      <td>1</td>\n",
       "      <td>0</td>\n",
       "      <td>0</td>\n",
       "      <td>1</td>\n",
       "      <td>12</td>\n",
       "      <td>2</td>\n",
       "      <td>0.400000</td>\n",
       "      <td>0.883679</td>\n",
       "      <td>0.370810</td>\n",
       "      <td>3.605551</td>\n",
       "      <td>0.6</td>\n",
       "      <td>0.5</td>\n",
       "      <td>0.2</td>\n",
       "      <td>3</td>\n",
       "      <td>1</td>\n",
       "      <td>10</td>\n",
       "      <td>1</td>\n",
       "      <td>10</td>\n",
       "      <td>1</td>\n",
       "      <td>5</td>\n",
       "      <td>9</td>\n",
       "      <td>1</td>\n",
       "      <td>5</td>\n",
       "      <td>8</td>\n",
       "      <td>0</td>\n",
       "      <td>1</td>\n",
       "      <td>1</td>\n",
       "      <td>0</td>\n",
       "      <td>0</td>\n",
       "      <td>1</td>\n",
       "    </tr>\n",
       "    <tr>\n",
       "      <th>9</th>\n",
       "      <td>0</td>\n",
       "      <td>1</td>\n",
       "      <td>1</td>\n",
       "      <td>7</td>\n",
       "      <td>0</td>\n",
       "      <td>0</td>\n",
       "      <td>0</td>\n",
       "      <td>0</td>\n",
       "      <td>1</td>\n",
       "      <td>0</td>\n",
       "      <td>0</td>\n",
       "      <td>0</td>\n",
       "      <td>0</td>\n",
       "      <td>0</td>\n",
       "      <td>0</td>\n",
       "      <td>3</td>\n",
       "      <td>0</td>\n",
       "      <td>0</td>\n",
       "      <td>1</td>\n",
       "      <td>0.8</td>\n",
       "      <td>0.4</td>\n",
       "      <td>0.766078</td>\n",
       "      <td>11</td>\n",
       "      <td>1</td>\n",
       "      <td>-1</td>\n",
       "      <td>0</td>\n",
       "      <td>-1</td>\n",
       "      <td>11</td>\n",
       "      <td>1</td>\n",
       "      <td>1</td>\n",
       "      <td>2</td>\n",
       "      <td>1</td>\n",
       "      <td>19</td>\n",
       "      <td>3</td>\n",
       "      <td>0.316228</td>\n",
       "      <td>0.618817</td>\n",
       "      <td>0.388716</td>\n",
       "      <td>2.449490</td>\n",
       "      <td>0.3</td>\n",
       "      <td>0.1</td>\n",
       "      <td>0.3</td>\n",
       "      <td>2</td>\n",
       "      <td>1</td>\n",
       "      <td>9</td>\n",
       "      <td>5</td>\n",
       "      <td>8</td>\n",
       "      <td>1</td>\n",
       "      <td>7</td>\n",
       "      <td>3</td>\n",
       "      <td>1</td>\n",
       "      <td>1</td>\n",
       "      <td>9</td>\n",
       "      <td>0</td>\n",
       "      <td>1</td>\n",
       "      <td>1</td>\n",
       "      <td>0</td>\n",
       "      <td>1</td>\n",
       "      <td>0</td>\n",
       "    </tr>\n",
       "    <tr>\n",
       "      <th>13</th>\n",
       "      <td>0</td>\n",
       "      <td>5</td>\n",
       "      <td>4</td>\n",
       "      <td>9</td>\n",
       "      <td>1</td>\n",
       "      <td>0</td>\n",
       "      <td>0</td>\n",
       "      <td>0</td>\n",
       "      <td>1</td>\n",
       "      <td>0</td>\n",
       "      <td>0</td>\n",
       "      <td>0</td>\n",
       "      <td>0</td>\n",
       "      <td>0</td>\n",
       "      <td>0</td>\n",
       "      <td>12</td>\n",
       "      <td>1</td>\n",
       "      <td>0</td>\n",
       "      <td>0</td>\n",
       "      <td>0.0</td>\n",
       "      <td>0.0</td>\n",
       "      <td>-1.000000</td>\n",
       "      <td>7</td>\n",
       "      <td>1</td>\n",
       "      <td>-1</td>\n",
       "      <td>0</td>\n",
       "      <td>-1</td>\n",
       "      <td>14</td>\n",
       "      <td>1</td>\n",
       "      <td>1</td>\n",
       "      <td>2</td>\n",
       "      <td>1</td>\n",
       "      <td>60</td>\n",
       "      <td>1</td>\n",
       "      <td>0.316228</td>\n",
       "      <td>0.641586</td>\n",
       "      <td>0.347275</td>\n",
       "      <td>3.316625</td>\n",
       "      <td>0.5</td>\n",
       "      <td>0.7</td>\n",
       "      <td>0.1</td>\n",
       "      <td>2</td>\n",
       "      <td>2</td>\n",
       "      <td>9</td>\n",
       "      <td>1</td>\n",
       "      <td>8</td>\n",
       "      <td>2</td>\n",
       "      <td>7</td>\n",
       "      <td>4</td>\n",
       "      <td>2</td>\n",
       "      <td>7</td>\n",
       "      <td>7</td>\n",
       "      <td>0</td>\n",
       "      <td>1</td>\n",
       "      <td>1</td>\n",
       "      <td>0</td>\n",
       "      <td>1</td>\n",
       "      <td>0</td>\n",
       "    </tr>\n",
       "    <tr>\n",
       "      <th>16</th>\n",
       "      <td>0</td>\n",
       "      <td>0</td>\n",
       "      <td>1</td>\n",
       "      <td>2</td>\n",
       "      <td>0</td>\n",
       "      <td>0</td>\n",
       "      <td>1</td>\n",
       "      <td>0</td>\n",
       "      <td>0</td>\n",
       "      <td>0</td>\n",
       "      <td>0</td>\n",
       "      <td>0</td>\n",
       "      <td>0</td>\n",
       "      <td>0</td>\n",
       "      <td>0</td>\n",
       "      <td>8</td>\n",
       "      <td>1</td>\n",
       "      <td>0</td>\n",
       "      <td>0</td>\n",
       "      <td>0.9</td>\n",
       "      <td>0.2</td>\n",
       "      <td>0.580948</td>\n",
       "      <td>7</td>\n",
       "      <td>1</td>\n",
       "      <td>0</td>\n",
       "      <td>0</td>\n",
       "      <td>1</td>\n",
       "      <td>11</td>\n",
       "      <td>1</td>\n",
       "      <td>1</td>\n",
       "      <td>3</td>\n",
       "      <td>1</td>\n",
       "      <td>104</td>\n",
       "      <td>1</td>\n",
       "      <td>0.374166</td>\n",
       "      <td>0.542949</td>\n",
       "      <td>0.294958</td>\n",
       "      <td>2.000000</td>\n",
       "      <td>0.6</td>\n",
       "      <td>0.9</td>\n",
       "      <td>0.1</td>\n",
       "      <td>2</td>\n",
       "      <td>4</td>\n",
       "      <td>7</td>\n",
       "      <td>1</td>\n",
       "      <td>8</td>\n",
       "      <td>4</td>\n",
       "      <td>2</td>\n",
       "      <td>2</td>\n",
       "      <td>2</td>\n",
       "      <td>4</td>\n",
       "      <td>9</td>\n",
       "      <td>0</td>\n",
       "      <td>0</td>\n",
       "      <td>0</td>\n",
       "      <td>0</td>\n",
       "      <td>0</td>\n",
       "      <td>0</td>\n",
       "    </tr>\n",
       "    <tr>\n",
       "      <th>17</th>\n",
       "      <td>0</td>\n",
       "      <td>0</td>\n",
       "      <td>2</td>\n",
       "      <td>0</td>\n",
       "      <td>1</td>\n",
       "      <td>0</td>\n",
       "      <td>1</td>\n",
       "      <td>0</td>\n",
       "      <td>0</td>\n",
       "      <td>0</td>\n",
       "      <td>0</td>\n",
       "      <td>0</td>\n",
       "      <td>0</td>\n",
       "      <td>0</td>\n",
       "      <td>0</td>\n",
       "      <td>9</td>\n",
       "      <td>1</td>\n",
       "      <td>0</td>\n",
       "      <td>0</td>\n",
       "      <td>0.7</td>\n",
       "      <td>0.6</td>\n",
       "      <td>0.840759</td>\n",
       "      <td>11</td>\n",
       "      <td>1</td>\n",
       "      <td>-1</td>\n",
       "      <td>0</td>\n",
       "      <td>-1</td>\n",
       "      <td>14</td>\n",
       "      <td>1</td>\n",
       "      <td>1</td>\n",
       "      <td>2</td>\n",
       "      <td>1</td>\n",
       "      <td>82</td>\n",
       "      <td>3</td>\n",
       "      <td>0.316070</td>\n",
       "      <td>0.565832</td>\n",
       "      <td>0.365103</td>\n",
       "      <td>2.000000</td>\n",
       "      <td>0.4</td>\n",
       "      <td>0.6</td>\n",
       "      <td>0.0</td>\n",
       "      <td>2</td>\n",
       "      <td>2</td>\n",
       "      <td>6</td>\n",
       "      <td>3</td>\n",
       "      <td>10</td>\n",
       "      <td>2</td>\n",
       "      <td>12</td>\n",
       "      <td>3</td>\n",
       "      <td>1</td>\n",
       "      <td>1</td>\n",
       "      <td>3</td>\n",
       "      <td>0</td>\n",
       "      <td>0</td>\n",
       "      <td>0</td>\n",
       "      <td>1</td>\n",
       "      <td>1</td>\n",
       "      <td>0</td>\n",
       "    </tr>\n",
       "  </tbody>\n",
       "</table>\n",
       "</div>"
      ],
      "text/plain": [
       "    target  ps_ind_01  ...  ps_calc_19_bin  ps_calc_20_bin\n",
       "id                     ...                                \n",
       "7        0          2  ...               0               1\n",
       "9        0          1  ...               1               0\n",
       "13       0          5  ...               1               0\n",
       "16       0          0  ...               0               0\n",
       "17       0          0  ...               1               0\n",
       "\n",
       "[5 rows x 58 columns]"
      ]
     },
     "execution_count": 25,
     "metadata": {
      "tags": []
     },
     "output_type": "execute_result"
    }
   ],
   "source": [
    "insurance_data.head()"
   ]
  },
  {
   "cell_type": "code",
   "execution_count": 9,
   "metadata": {
    "id": "4JYSQ7vWUlws"
   },
   "outputs": [],
   "source": [
    "positive_data = insurance_data[insurance_data.target == 1]\n",
    "negative_data = insurance_data[insurance_data.target == 0]"
   ]
  },
  {
   "cell_type": "code",
   "execution_count": null,
   "metadata": {
    "colab": {
     "base_uri": "https://localhost:8080/",
     "height": 683
    },
    "id": "sG-jnqScuxlq",
    "outputId": "90ff1d42-c9fb-41b6-9cb8-3ec0a567e647"
   },
   "outputs": [
    {
     "data": {
      "image/png": "[encoded data removed]",
      "text/plain": [
       "<Figure size 1296x720 with 1 Axes>"
      ]
     },
     "metadata": {
      "tags": []
     },
     "output_type": "display_data"
    }
   ],
   "source": [
    "plt.figure(figsize=(18,10))\n",
    "sns.heatmap(insurance_data==-1, cmap='gray', cbar=False)\n",
    "plt.title('Missing values in training set')\n",
    "plt.show()"
   ]
  },
  {
   "cell_type": "code",
   "execution_count": null,
   "metadata": {
    "colab": {
     "base_uri": "https://localhost:8080/",
     "height": 438
    },
    "id": "d2457BFFxv3E",
    "outputId": "b4bfb671-d2bc-4482-a50c-8cc1ddb05d55"
   },
   "outputs": [
    {
     "data": {
      "text/html": [
       "<div>\n",
       "<style scoped>\n",
       "    .dataframe tbody tr th:only-of-type {\n",
       "        vertical-align: middle;\n",
       "    }\n",
       "\n",
       "    .dataframe tbody tr th {\n",
       "        vertical-align: top;\n",
       "    }\n",
       "\n",
       "    .dataframe thead th {\n",
       "        text-align: right;\n",
       "    }\n",
       "</style>\n",
       "<table border=\"1\" class=\"dataframe\">\n",
       "  <thead>\n",
       "    <tr style=\"text-align: right;\">\n",
       "      <th></th>\n",
       "      <th>dtype</th>\n",
       "      <th>num_missing</th>\n",
       "      <th>num_uniques</th>\n",
       "      <th>role</th>\n",
       "    </tr>\n",
       "  </thead>\n",
       "  <tbody>\n",
       "    <tr>\n",
       "      <th>ps_ind_02_cat</th>\n",
       "      <td>int64</td>\n",
       "      <td>216</td>\n",
       "      <td>5</td>\n",
       "      <td>nominal</td>\n",
       "    </tr>\n",
       "    <tr>\n",
       "      <th>ps_ind_04_cat</th>\n",
       "      <td>int64</td>\n",
       "      <td>83</td>\n",
       "      <td>3</td>\n",
       "      <td>nominal</td>\n",
       "    </tr>\n",
       "    <tr>\n",
       "      <th>ps_ind_05_cat</th>\n",
       "      <td>int64</td>\n",
       "      <td>5809</td>\n",
       "      <td>8</td>\n",
       "      <td>nominal</td>\n",
       "    </tr>\n",
       "    <tr>\n",
       "      <th>ps_reg_03</th>\n",
       "      <td>float64</td>\n",
       "      <td>107772</td>\n",
       "      <td>5013</td>\n",
       "      <td>continuous</td>\n",
       "    </tr>\n",
       "    <tr>\n",
       "      <th>ps_car_01_cat</th>\n",
       "      <td>int64</td>\n",
       "      <td>107</td>\n",
       "      <td>13</td>\n",
       "      <td>nominal</td>\n",
       "    </tr>\n",
       "    <tr>\n",
       "      <th>ps_car_02_cat</th>\n",
       "      <td>int64</td>\n",
       "      <td>5</td>\n",
       "      <td>3</td>\n",
       "      <td>nominal</td>\n",
       "    </tr>\n",
       "    <tr>\n",
       "      <th>ps_car_03_cat</th>\n",
       "      <td>int64</td>\n",
       "      <td>411231</td>\n",
       "      <td>3</td>\n",
       "      <td>nominal</td>\n",
       "    </tr>\n",
       "    <tr>\n",
       "      <th>ps_car_05_cat</th>\n",
       "      <td>int64</td>\n",
       "      <td>266551</td>\n",
       "      <td>3</td>\n",
       "      <td>nominal</td>\n",
       "    </tr>\n",
       "    <tr>\n",
       "      <th>ps_car_07_cat</th>\n",
       "      <td>int64</td>\n",
       "      <td>11489</td>\n",
       "      <td>3</td>\n",
       "      <td>nominal</td>\n",
       "    </tr>\n",
       "    <tr>\n",
       "      <th>ps_car_09_cat</th>\n",
       "      <td>int64</td>\n",
       "      <td>569</td>\n",
       "      <td>6</td>\n",
       "      <td>nominal</td>\n",
       "    </tr>\n",
       "    <tr>\n",
       "      <th>ps_car_11</th>\n",
       "      <td>int64</td>\n",
       "      <td>5</td>\n",
       "      <td>5</td>\n",
       "      <td>ordinal</td>\n",
       "    </tr>\n",
       "    <tr>\n",
       "      <th>ps_car_12</th>\n",
       "      <td>float64</td>\n",
       "      <td>1</td>\n",
       "      <td>184</td>\n",
       "      <td>continuous</td>\n",
       "    </tr>\n",
       "    <tr>\n",
       "      <th>ps_car_14</th>\n",
       "      <td>float64</td>\n",
       "      <td>42620</td>\n",
       "      <td>850</td>\n",
       "      <td>continuous</td>\n",
       "    </tr>\n",
       "  </tbody>\n",
       "</table>\n",
       "</div>"
      ],
      "text/plain": [
       "                 dtype  num_missing  num_uniques        role\n",
       "ps_ind_02_cat    int64          216            5     nominal\n",
       "ps_ind_04_cat    int64           83            3     nominal\n",
       "ps_ind_05_cat    int64         5809            8     nominal\n",
       "ps_reg_03      float64       107772         5013  continuous\n",
       "ps_car_01_cat    int64          107           13     nominal\n",
       "ps_car_02_cat    int64            5            3     nominal\n",
       "ps_car_03_cat    int64       411231            3     nominal\n",
       "ps_car_05_cat    int64       266551            3     nominal\n",
       "ps_car_07_cat    int64        11489            3     nominal\n",
       "ps_car_09_cat    int64          569            6     nominal\n",
       "ps_car_11        int64            5            5     ordinal\n",
       "ps_car_12      float64            1          184  continuous\n",
       "ps_car_14      float64        42620          850  continuous"
      ]
     },
     "execution_count": 98,
     "metadata": {
      "tags": []
     },
     "output_type": "execute_result"
    }
   ],
   "source": [
    "summary = pd.DataFrame(insurance_data.dtypes, columns=['dtype'])\n",
    "# Number of Missing values (-1 count)\n",
    "summary['num_missing'] = (insurance_data == -1).sum().values    \n",
    "# Number of unique values by features\n",
    "summary['num_uniques'] = insurance_data.nunique().values\n",
    "\n",
    "data_forms = []\n",
    "for col in insurance_data.columns:\n",
    "    if 'bin' in col or col == 'target':\n",
    "        data_forms.append('binary')\n",
    "    elif 'cat' in col:\n",
    "        data_forms.append('nominal')\n",
    "    elif insurance_data[col].dtype == float:\n",
    "        data_forms.append('continuous')\n",
    "    elif insurance_data[col].dtype == int:\n",
    "        data_forms.append('ordinal')\n",
    "\n",
    "summary['role'] = data_forms\n",
    "summary[summary['num_missing']>0]"
   ]
  },
  {
   "cell_type": "code",
   "execution_count": null,
   "metadata": {
    "id": "H4K6_OnFN1iM"
   },
   "outputs": [],
   "source": [
    "numeric_features = [column for column in X if not (column.endswith(\"cat\") or column.endswith(\"bin\"))]\n",
    "categorical_features = [column for column in X if (column.endswith(\"cat\") or column.endswith(\"bin\"))]"
   ]
  },
  {
   "cell_type": "markdown",
   "metadata": {
    "id": "V4JJtafiWgdI"
   },
   "source": [
    "# Sampling\n",
    "\n",
    "Данных у нас много. Попробуем начать с UnderSampling"
   ]
  },
  {
   "cell_type": "code",
   "execution_count": null,
   "metadata": {
    "colab": {
     "base_uri": "https://localhost:8080/"
    },
    "id": "4B7gsIhpNwVV",
    "outputId": "264ac448-9819-45d5-f44e-b6c914aa7181"
   },
   "outputs": [
    {
     "data": {
      "text/plain": [
       "NearMiss(n_jobs=1, n_neighbors=3, n_neighbors_ver3=3, random_state=None,\n",
       "         ratio=None, return_indices=True, sampling_strategy='auto', version=1)"
      ]
     },
     "execution_count": 150,
     "metadata": {
      "tags": []
     },
     "output_type": "execute_result"
    }
   ],
   "source": [
    "from imblearn.under_sampling import NearMiss\n",
    "nm = NearMiss(return_indices=True)\n",
    "nm"
   ]
  },
  {
   "cell_type": "code",
   "execution_count": null,
   "metadata": {
    "id": "DLoCSQRtZzkU"
   },
   "outputs": [],
   "source": [
    "sns.countplot(x=y_us)\n",
    "plt.show()"
   ]
  },
  {
   "cell_type": "code",
   "execution_count": null,
   "metadata": {
    "id": "g_Jfkt7oC64-"
   },
   "outputs": [],
   "source": [
    "## your code"
   ]
  },
  {
   "cell_type": "code",
   "execution_count": 19,
   "metadata": {
    "ExecuteTime": {
     "end_time": "2021-03-07T09:49:08.778966Z",
     "start_time": "2021-03-07T09:49:04.741607Z"
    },
    "colab": {
     "base_uri": "https://localhost:8080/"
    },
    "id": "jfuJRghYhzYo",
    "outputId": "bef3896e-0507-49d4-de67-cf51ed0d05a1"
   },
   "outputs": [
    {
     "name": "stdout",
     "output_type": "stream",
     "text": [
      "(416648, 57) (178564, 57)\n",
      "(416648, 244) (178564, 244)\n"
     ]
    }
   ],
   "source": [
    "X_train, X_valid, y_train, y_valid = train_test_split(X, y, test_size=0.3, random_state=42, stratify=y)\n",
    "\n",
    "numeric_transformer = Pipeline(steps=[('scaler', StandardScaler())])\n",
    "categorical_transformer = Pipeline(steps=[('encoder', OneHotEncoder(handle_unknown='ignore'))])\n",
    "\n",
    "preprocessor = ColumnTransformer(\n",
    "    transformers=[\n",
    "        ('num', numeric_transformer, numeric_features),\n",
    "        ('cat', categorical_transformer, categorical_features)])\n",
    "\n",
    "print(X_train.shape, X_valid.shape)\n",
    "X_train = preprocessor.fit_transform(X_train)\n",
    "X_valid = preprocessor.fit_transform(X_valid)\n",
    "print(X_train.shape, X_valid.shape)"
   ]
  },
  {
   "cell_type": "code",
   "execution_count": 21,
   "metadata": {
    "ExecuteTime": {
     "end_time": "2021-03-07T10:12:10.682507Z",
     "start_time": "2021-03-07T10:01:14.493236Z"
    },
    "colab": {
     "base_uri": "https://localhost:8080/"
    },
    "id": "c94A6iIHdsmt",
    "outputId": "90901b22-b095-49b6-e929-0ae56675e25f"
   },
   "outputs": [
    {
     "name": "stdout",
     "output_type": "stream",
     "text": [
      "Before Undersampling, counts of label '1': 15186\n",
      "Before Undersampling, counts of label '0': 401462 \n",
      "\n",
      "After Undersampling, the shape of train_X: (30372, 244)\n",
      "After Undersampling, the shape of train_y: (30372,) \n",
      "\n",
      "After Undersampling, counts of label '1': 15186\n",
      "After Undersampling, counts of label '0': 15186\n"
     ]
    }
   ],
   "source": [
    "from imblearn.under_sampling import NearMiss \n",
    "\n",
    "print(\"Before Undersampling, counts of label '1': {}\".format(sum(y_train == 1))) \n",
    "print(\"Before Undersampling, counts of label '0': {} \\n\".format(sum(y_train == 0))) \n",
    "  \n",
    "# apply near miss \n",
    "\n",
    "nr = NearMiss() \n",
    "  \n",
    "X_train_us, y_train_us = nr.fit_sample(X_train, y_train) \n",
    "  \n",
    "print('After Undersampling, the shape of train_X: {}'.format(X_train_us.shape)) \n",
    "print('After Undersampling, the shape of train_y: {} \\n'.format(y_train_us.shape)) \n",
    "  \n",
    "print(\"After Undersampling, counts of label '1': {}\".format(sum(y_train_us == 1))) \n",
    "print(\"After Undersampling, counts of label '0': {}\".format(sum(y_train_us == 0))) "
   ]
  },
  {
   "cell_type": "code",
   "execution_count": null,
   "metadata": {
    "ExecuteTime": {
     "end_time": "2021-03-08T14:57:04.510061Z",
     "start_time": "2021-03-08T14:57:04.465181Z"
    },
    "id": "MRw0utFe3Q7D"
   },
   "outputs": [],
   "source": [
    "from sklearn.metrics import roc_auc_score\n",
    "from sklearn.neighbors import KNeighborsClassifier\n",
    "from imblearn.under_sampling import NearMiss\n",
    "from imblearn.pipeline import make_pipeline as make_imb_pipeline\n",
    "from imblearn.pipeline import Pipeline as imb_pipeline\n",
    "\n",
    "#roc_auc_scorer = make_scorer(roc_auc_score, greater_is_better=True) #, needs_threshold=True # используем predict \n",
    "#roc_auc_scorer = make_scorer(roc_auc_score, needs_threshold=True) # используем predict_proba  needs_proba=True,  needs_threshold\n",
    "\n",
    "gini_scorer = make_scorer(gini_normalized, greater_is_better=True,needs_threshold=True)\n"
   ]
  },
  {
   "cell_type": "code",
   "execution_count": 49,
   "metadata": {
    "ExecuteTime": {
     "end_time": "2021-03-08T14:39:05.388481Z",
     "start_time": "2021-03-08T14:39:04.955439Z"
    }
   },
   "outputs": [
    {
     "data": {
      "text/plain": [
       "SGDClassifier(alpha=0.001, loss='log', n_jobs=-1, random_state=14)"
      ]
     },
     "execution_count": 49,
     "metadata": {},
     "output_type": "execute_result"
    }
   ],
   "source": [
    "classifier = SGDClassifier(loss='log', alpha=0.001, n_jobs=-1, random_state=14)\n",
    "classifier.fit(X_train_us, y_train_us)"
   ]
  },
  {
   "cell_type": "code",
   "execution_count": 52,
   "metadata": {
    "ExecuteTime": {
     "end_time": "2021-03-08T14:40:13.542968Z",
     "start_time": "2021-03-08T14:40:10.917653Z"
    },
    "colab": {
     "base_uri": "https://localhost:8080/",
     "height": 216
    },
    "id": "wF8Orm-7pMiw",
    "outputId": "f361ee9f-fb41-4914-846d-0c7327402f26"
   },
   "outputs": [
    {
     "name": "stdout",
     "output_type": "stream",
     "text": [
      "0.8622588978847945\n",
      "{'alpha': 0.00051}\n",
      "0.16993906250779484\n"
     ]
    },
    {
     "data": {
      "text/html": [
       "<div>\n",
       "<style scoped>\n",
       "    .dataframe tbody tr th:only-of-type {\n",
       "        vertical-align: middle;\n",
       "    }\n",
       "\n",
       "    .dataframe tbody tr th {\n",
       "        vertical-align: top;\n",
       "    }\n",
       "\n",
       "    .dataframe thead th {\n",
       "        text-align: right;\n",
       "    }\n",
       "</style>\n",
       "<table border=\"1\" class=\"dataframe\">\n",
       "  <thead>\n",
       "    <tr style=\"text-align: right;\">\n",
       "      <th></th>\n",
       "      <th>0</th>\n",
       "      <th>1</th>\n",
       "      <th>accuracy</th>\n",
       "      <th>macro avg</th>\n",
       "      <th>weighted avg</th>\n",
       "    </tr>\n",
       "  </thead>\n",
       "  <tbody>\n",
       "    <tr>\n",
       "      <th>precision</th>\n",
       "      <td>0.973941</td>\n",
       "      <td>0.039545</td>\n",
       "      <td>0.254211</td>\n",
       "      <td>0.506743</td>\n",
       "      <td>0.939886</td>\n",
       "    </tr>\n",
       "    <tr>\n",
       "      <th>recall</th>\n",
       "      <td>0.232215</td>\n",
       "      <td>0.835741</td>\n",
       "      <td>0.254211</td>\n",
       "      <td>0.533978</td>\n",
       "      <td>0.254211</td>\n",
       "    </tr>\n",
       "    <tr>\n",
       "      <th>f1-score</th>\n",
       "      <td>0.375016</td>\n",
       "      <td>0.075516</td>\n",
       "      <td>0.254211</td>\n",
       "      <td>0.225266</td>\n",
       "      <td>0.364100</td>\n",
       "    </tr>\n",
       "    <tr>\n",
       "      <th>support</th>\n",
       "      <td>172056.000000</td>\n",
       "      <td>6508.000000</td>\n",
       "      <td>0.254211</td>\n",
       "      <td>178564.000000</td>\n",
       "      <td>178564.000000</td>\n",
       "    </tr>\n",
       "  </tbody>\n",
       "</table>\n",
       "</div>"
      ],
      "text/plain": [
       "                       0            1  accuracy      macro avg   weighted avg\n",
       "precision       0.973941     0.039545  0.254211       0.506743       0.939886\n",
       "recall          0.232215     0.835741  0.254211       0.533978       0.254211\n",
       "f1-score        0.375016     0.075516  0.254211       0.225266       0.364100\n",
       "support    172056.000000  6508.000000  0.254211  178564.000000  178564.000000"
      ]
     },
     "execution_count": 52,
     "metadata": {},
     "output_type": "execute_result"
    }
   ],
   "source": [
    "# LogLoss\n",
    "classifier = SGDClassifier(loss='log', alpha=0.001, n_jobs=-1, random_state=14)\n",
    "params =  {'alpha': np.arange(0.00001,0.001,0.0005)}\n",
    "GS = GridSearchCV(classifier, param_grid=params, scoring=gini_scorer,n_jobs=-1)\n",
    "\n",
    "GS.fit(X_train_us, y_train_us)\n",
    "print(GS.best_score_)\n",
    "print(GS.best_params_)\n",
    "\n",
    "y_pred = GS.predict(X_valid) \n",
    "y_proba = GS.predict_proba(X_valid)[:, 1]\n",
    "print(gini_normalized(y_valid, y_proba))\n",
    "report_dict = classification_report(y_valid, y_pred, output_dict=True)\n",
    "pd.DataFrame(report_dict)"
   ]
  },
  {
   "cell_type": "code",
   "execution_count": 29,
   "metadata": {
    "ExecuteTime": {
     "end_time": "2021-03-07T11:11:17.508953Z",
     "start_time": "2021-03-07T10:59:01.310721Z"
    },
    "colab": {
     "base_uri": "https://localhost:8080/",
     "height": 216
    },
    "id": "ksM8Tyw8gfis",
    "outputId": "c8c57c40-881c-48a2-e2fc-dbcf537da278"
   },
   "outputs": [
    {
     "name": "stdout",
     "output_type": "stream",
     "text": [
      "0.8650578333211243\n",
      "{'n_neighbors': 30}\n"
     ]
    },
    {
     "data": {
      "text/html": [
       "<div>\n",
       "<style scoped>\n",
       "    .dataframe tbody tr th:only-of-type {\n",
       "        vertical-align: middle;\n",
       "    }\n",
       "\n",
       "    .dataframe tbody tr th {\n",
       "        vertical-align: top;\n",
       "    }\n",
       "\n",
       "    .dataframe thead th {\n",
       "        text-align: right;\n",
       "    }\n",
       "</style>\n",
       "<table border=\"1\" class=\"dataframe\">\n",
       "  <thead>\n",
       "    <tr style=\"text-align: right;\">\n",
       "      <th></th>\n",
       "      <th>0</th>\n",
       "      <th>1</th>\n",
       "      <th>accuracy</th>\n",
       "      <th>macro avg</th>\n",
       "      <th>weighted avg</th>\n",
       "    </tr>\n",
       "  </thead>\n",
       "  <tbody>\n",
       "    <tr>\n",
       "      <th>precision</th>\n",
       "      <td>0.969246</td>\n",
       "      <td>0.053780</td>\n",
       "      <td>0.742933</td>\n",
       "      <td>0.511513</td>\n",
       "      <td>0.935881</td>\n",
       "    </tr>\n",
       "    <tr>\n",
       "      <th>recall</th>\n",
       "      <td>0.757236</td>\n",
       "      <td>0.364782</td>\n",
       "      <td>0.742933</td>\n",
       "      <td>0.561009</td>\n",
       "      <td>0.742933</td>\n",
       "    </tr>\n",
       "    <tr>\n",
       "      <th>f1-score</th>\n",
       "      <td>0.850224</td>\n",
       "      <td>0.093740</td>\n",
       "      <td>0.742933</td>\n",
       "      <td>0.471982</td>\n",
       "      <td>0.822653</td>\n",
       "    </tr>\n",
       "    <tr>\n",
       "      <th>support</th>\n",
       "      <td>172056.000000</td>\n",
       "      <td>6508.000000</td>\n",
       "      <td>0.742933</td>\n",
       "      <td>178564.000000</td>\n",
       "      <td>178564.000000</td>\n",
       "    </tr>\n",
       "  </tbody>\n",
       "</table>\n",
       "</div>"
      ],
      "text/plain": [
       "                       0            1  accuracy      macro avg   weighted avg\n",
       "precision       0.969246     0.053780  0.742933       0.511513       0.935881\n",
       "recall          0.757236     0.364782  0.742933       0.561009       0.742933\n",
       "f1-score        0.850224     0.093740  0.742933       0.471982       0.822653\n",
       "support    172056.000000  6508.000000  0.742933  178564.000000  178564.000000"
      ]
     },
     "execution_count": 29,
     "metadata": {},
     "output_type": "execute_result"
    }
   ],
   "source": [
    "# KNN\n",
    "classifier = KNeighborsClassifier(metric='manhattan') # n_neighbors=5 metric= \n",
    "params = {'n_neighbors': np.arange(28,61)} #np.arange(2,11)  'n_neighbors': np.arange(2,11), \n",
    "GS = GridSearchCV(classifier, param_grid=params, scoring=roc_auc_scorer,n_jobs=-1)\n",
    "\n",
    "GS.fit(X_train_us, y_train_us)\n",
    "print(GS.best_score_)\n",
    "print(GS.best_params_)\n",
    "\n",
    "y_pred = GS.predict(X_valid) \n",
    "y_proba = GS.predict_proba(X_valid)[:, 1]\n",
    "print(gini_normalized(y_valid, y_proba))\n",
    "report_dict = classification_report(y_valid, y_pred, output_dict=True)\n",
    "pd.DataFrame(report_dict)"
   ]
  },
  {
   "cell_type": "code",
   "execution_count": 30,
   "metadata": {
    "ExecuteTime": {
     "end_time": "2021-03-07T11:15:38.600489Z",
     "start_time": "2021-03-07T11:11:17.550824Z"
    }
   },
   "outputs": [
    {
     "name": "stdout",
     "output_type": "stream",
     "text": [
      "0.18174203347648385\n"
     ]
    }
   ],
   "source": [
    "y_proba = GS.predict_proba(X_valid)[:, 1]\n",
    "print(gini_normalized(y_valid, y_proba))"
   ]
  },
  {
   "cell_type": "code",
   "execution_count": 31,
   "metadata": {
    "ExecuteTime": {
     "end_time": "2021-03-07T11:16:20.846012Z",
     "start_time": "2021-03-07T11:15:38.602456Z"
    },
    "id": "LX1aR8KktCAc"
   },
   "outputs": [
    {
     "name": "stdout",
     "output_type": "stream",
     "text": [
      "0.8821698112938808\n",
      "{'criterion': 'entropy', 'max_depth': 8}\n",
      "0.16095127965317352\n"
     ]
    },
    {
     "data": {
      "text/html": [
       "<div>\n",
       "<style scoped>\n",
       "    .dataframe tbody tr th:only-of-type {\n",
       "        vertical-align: middle;\n",
       "    }\n",
       "\n",
       "    .dataframe tbody tr th {\n",
       "        vertical-align: top;\n",
       "    }\n",
       "\n",
       "    .dataframe thead th {\n",
       "        text-align: right;\n",
       "    }\n",
       "</style>\n",
       "<table border=\"1\" class=\"dataframe\">\n",
       "  <thead>\n",
       "    <tr style=\"text-align: right;\">\n",
       "      <th></th>\n",
       "      <th>0</th>\n",
       "      <th>1</th>\n",
       "      <th>accuracy</th>\n",
       "      <th>macro avg</th>\n",
       "      <th>weighted avg</th>\n",
       "    </tr>\n",
       "  </thead>\n",
       "  <tbody>\n",
       "    <tr>\n",
       "      <th>precision</th>\n",
       "      <td>0.975239</td>\n",
       "      <td>0.041276</td>\n",
       "      <td>0.314408</td>\n",
       "      <td>0.508258</td>\n",
       "      <td>0.941200</td>\n",
       "    </tr>\n",
       "    <tr>\n",
       "      <th>recall</th>\n",
       "      <td>0.295991</td>\n",
       "      <td>0.801321</td>\n",
       "      <td>0.314408</td>\n",
       "      <td>0.548656</td>\n",
       "      <td>0.314408</td>\n",
       "    </tr>\n",
       "    <tr>\n",
       "      <th>f1-score</th>\n",
       "      <td>0.454146</td>\n",
       "      <td>0.078508</td>\n",
       "      <td>0.314408</td>\n",
       "      <td>0.266327</td>\n",
       "      <td>0.440455</td>\n",
       "    </tr>\n",
       "    <tr>\n",
       "      <th>support</th>\n",
       "      <td>172056.000000</td>\n",
       "      <td>6508.000000</td>\n",
       "      <td>0.314408</td>\n",
       "      <td>178564.000000</td>\n",
       "      <td>178564.000000</td>\n",
       "    </tr>\n",
       "  </tbody>\n",
       "</table>\n",
       "</div>"
      ],
      "text/plain": [
       "                       0            1  accuracy      macro avg   weighted avg\n",
       "precision       0.975239     0.041276  0.314408       0.508258       0.941200\n",
       "recall          0.295991     0.801321  0.314408       0.548656       0.314408\n",
       "f1-score        0.454146     0.078508  0.314408       0.266327       0.440455\n",
       "support    172056.000000  6508.000000  0.314408  178564.000000  178564.000000"
      ]
     },
     "execution_count": 31,
     "metadata": {},
     "output_type": "execute_result"
    }
   ],
   "source": [
    "# DecisionTree\n",
    "# В лекции разрешили использовать деревья\n",
    "from sklearn.tree import DecisionTreeClassifier \n",
    "\n",
    "classifier = DecisionTreeClassifier(random_state=0)\n",
    "params =  {'criterion': ('gini', 'entropy'), 'max_depth': np.arange(2,24,2)}\n",
    "GS = GridSearchCV(classifier, param_grid=params, scoring=roc_auc_scorer,n_jobs=-1)\n",
    "\n",
    "GS.fit(X_train_us, y_train_us)\n",
    "print(GS.best_score_)\n",
    "print(GS.best_params_)\n",
    "\n",
    "y_pred = GS.predict(X_valid) \n",
    "y_proba = GS.predict_proba(X_valid)[:, 1]\n",
    "print(gini_normalized(y_valid, y_proba))\n",
    "report_dict = classification_report(y_valid, y_pred, output_dict=True)\n",
    "pd.DataFrame(report_dict)"
   ]
  },
  {
   "cell_type": "code",
   "execution_count": 53,
   "metadata": {
    "ExecuteTime": {
     "end_time": "2021-03-08T14:44:26.664203Z",
     "start_time": "2021-03-08T14:41:42.708585Z"
    },
    "id": "ygXSfxfSeOub"
   },
   "outputs": [
    {
     "name": "stdout",
     "output_type": "stream",
     "text": [
      "0.8650821760180065\n",
      "{'max_depth': 22}\n",
      "0.1867572492884339\n"
     ]
    },
    {
     "data": {
      "text/html": [
       "<div>\n",
       "<style scoped>\n",
       "    .dataframe tbody tr th:only-of-type {\n",
       "        vertical-align: middle;\n",
       "    }\n",
       "\n",
       "    .dataframe tbody tr th {\n",
       "        vertical-align: top;\n",
       "    }\n",
       "\n",
       "    .dataframe thead th {\n",
       "        text-align: right;\n",
       "    }\n",
       "</style>\n",
       "<table border=\"1\" class=\"dataframe\">\n",
       "  <thead>\n",
       "    <tr style=\"text-align: right;\">\n",
       "      <th></th>\n",
       "      <th>0</th>\n",
       "      <th>1</th>\n",
       "      <th>accuracy</th>\n",
       "      <th>macro avg</th>\n",
       "      <th>weighted avg</th>\n",
       "    </tr>\n",
       "  </thead>\n",
       "  <tbody>\n",
       "    <tr>\n",
       "      <th>precision</th>\n",
       "      <td>0.975521</td>\n",
       "      <td>0.040461</td>\n",
       "      <td>0.275347</td>\n",
       "      <td>0.507991</td>\n",
       "      <td>0.941442</td>\n",
       "    </tr>\n",
       "    <tr>\n",
       "      <th>recall</th>\n",
       "      <td>0.254318</td>\n",
       "      <td>0.831285</td>\n",
       "      <td>0.275347</td>\n",
       "      <td>0.542801</td>\n",
       "      <td>0.275347</td>\n",
       "    </tr>\n",
       "    <tr>\n",
       "      <th>f1-score</th>\n",
       "      <td>0.403456</td>\n",
       "      <td>0.077166</td>\n",
       "      <td>0.275347</td>\n",
       "      <td>0.240311</td>\n",
       "      <td>0.391564</td>\n",
       "    </tr>\n",
       "    <tr>\n",
       "      <th>support</th>\n",
       "      <td>172056.000000</td>\n",
       "      <td>6508.000000</td>\n",
       "      <td>0.275347</td>\n",
       "      <td>178564.000000</td>\n",
       "      <td>178564.000000</td>\n",
       "    </tr>\n",
       "  </tbody>\n",
       "</table>\n",
       "</div>"
      ],
      "text/plain": [
       "                       0            1  accuracy      macro avg   weighted avg\n",
       "precision       0.975521     0.040461  0.275347       0.507991       0.941442\n",
       "recall          0.254318     0.831285  0.275347       0.542801       0.275347\n",
       "f1-score        0.403456     0.077166  0.275347       0.240311       0.391564\n",
       "support    172056.000000  6508.000000  0.275347  178564.000000  178564.000000"
      ]
     },
     "execution_count": 53,
     "metadata": {},
     "output_type": "execute_result"
    }
   ],
   "source": [
    "# RandomForest\n",
    "from sklearn.ensemble import RandomForestClassifier\n",
    "\n",
    "classifier = RandomForestClassifier(random_state=0, criterion='entropy')\n",
    "params =  {'max_depth': np.arange(2,24,2)} #'max_depth': np.arange(2,24,2), 'n_estimators': np.arange(100,1000,500) 'criterion': ('gini', 'entropy')\n",
    "GS = GridSearchCV(classifier, param_grid=params, scoring=gini_scorer,n_jobs=-1)\n",
    "\n",
    "GS.fit(X_train_us, y_train_us)\n",
    "print(GS.best_score_)\n",
    "print(GS.best_params_)\n",
    "\n",
    "y_pred = GS.predict(X_valid) \n",
    "y_proba = GS.predict_proba(X_valid)[:, 1]\n",
    "print(gini_normalized(y_valid, y_proba))\n",
    "report_dict = classification_report(y_valid, y_pred, output_dict=True)\n",
    "pd.DataFrame(report_dict)"
   ]
  },
  {
   "cell_type": "code",
   "execution_count": null,
   "metadata": {},
   "outputs": [],
   "source": []
  },
  {
   "cell_type": "code",
   "execution_count": 42,
   "metadata": {
    "ExecuteTime": {
     "end_time": "2021-03-08T14:32:32.573649Z",
     "start_time": "2021-03-08T14:32:29.140096Z"
    }
   },
   "outputs": [
    {
     "data": {
      "text/html": [
       "<div>\n",
       "<style scoped>\n",
       "    .dataframe tbody tr th:only-of-type {\n",
       "        vertical-align: middle;\n",
       "    }\n",
       "\n",
       "    .dataframe tbody tr th {\n",
       "        vertical-align: top;\n",
       "    }\n",
       "\n",
       "    .dataframe thead th {\n",
       "        text-align: right;\n",
       "    }\n",
       "</style>\n",
       "<table border=\"1\" class=\"dataframe\">\n",
       "  <thead>\n",
       "    <tr style=\"text-align: right;\">\n",
       "      <th></th>\n",
       "      <th>ps_ind_01</th>\n",
       "      <th>ps_ind_02_cat</th>\n",
       "      <th>ps_ind_03</th>\n",
       "      <th>ps_ind_04_cat</th>\n",
       "      <th>ps_ind_05_cat</th>\n",
       "      <th>ps_ind_06_bin</th>\n",
       "      <th>ps_ind_07_bin</th>\n",
       "      <th>ps_ind_08_bin</th>\n",
       "      <th>ps_ind_09_bin</th>\n",
       "      <th>ps_ind_10_bin</th>\n",
       "      <th>...</th>\n",
       "      <th>ps_calc_11</th>\n",
       "      <th>ps_calc_12</th>\n",
       "      <th>ps_calc_13</th>\n",
       "      <th>ps_calc_14</th>\n",
       "      <th>ps_calc_15_bin</th>\n",
       "      <th>ps_calc_16_bin</th>\n",
       "      <th>ps_calc_17_bin</th>\n",
       "      <th>ps_calc_18_bin</th>\n",
       "      <th>ps_calc_19_bin</th>\n",
       "      <th>ps_calc_20_bin</th>\n",
       "    </tr>\n",
       "    <tr>\n",
       "      <th>id</th>\n",
       "      <th></th>\n",
       "      <th></th>\n",
       "      <th></th>\n",
       "      <th></th>\n",
       "      <th></th>\n",
       "      <th></th>\n",
       "      <th></th>\n",
       "      <th></th>\n",
       "      <th></th>\n",
       "      <th></th>\n",
       "      <th></th>\n",
       "      <th></th>\n",
       "      <th></th>\n",
       "      <th></th>\n",
       "      <th></th>\n",
       "      <th></th>\n",
       "      <th></th>\n",
       "      <th></th>\n",
       "      <th></th>\n",
       "      <th></th>\n",
       "      <th></th>\n",
       "    </tr>\n",
       "  </thead>\n",
       "  <tbody>\n",
       "    <tr>\n",
       "      <th>0</th>\n",
       "      <td>0</td>\n",
       "      <td>1</td>\n",
       "      <td>8</td>\n",
       "      <td>1</td>\n",
       "      <td>0</td>\n",
       "      <td>0</td>\n",
       "      <td>1</td>\n",
       "      <td>0</td>\n",
       "      <td>0</td>\n",
       "      <td>0</td>\n",
       "      <td>...</td>\n",
       "      <td>1</td>\n",
       "      <td>1</td>\n",
       "      <td>1</td>\n",
       "      <td>12</td>\n",
       "      <td>0</td>\n",
       "      <td>1</td>\n",
       "      <td>1</td>\n",
       "      <td>0</td>\n",
       "      <td>0</td>\n",
       "      <td>1</td>\n",
       "    </tr>\n",
       "    <tr>\n",
       "      <th>1</th>\n",
       "      <td>4</td>\n",
       "      <td>2</td>\n",
       "      <td>5</td>\n",
       "      <td>1</td>\n",
       "      <td>0</td>\n",
       "      <td>0</td>\n",
       "      <td>0</td>\n",
       "      <td>0</td>\n",
       "      <td>1</td>\n",
       "      <td>0</td>\n",
       "      <td>...</td>\n",
       "      <td>2</td>\n",
       "      <td>0</td>\n",
       "      <td>3</td>\n",
       "      <td>10</td>\n",
       "      <td>0</td>\n",
       "      <td>0</td>\n",
       "      <td>1</td>\n",
       "      <td>1</td>\n",
       "      <td>0</td>\n",
       "      <td>1</td>\n",
       "    </tr>\n",
       "    <tr>\n",
       "      <th>2</th>\n",
       "      <td>5</td>\n",
       "      <td>1</td>\n",
       "      <td>3</td>\n",
       "      <td>0</td>\n",
       "      <td>0</td>\n",
       "      <td>0</td>\n",
       "      <td>0</td>\n",
       "      <td>0</td>\n",
       "      <td>1</td>\n",
       "      <td>0</td>\n",
       "      <td>...</td>\n",
       "      <td>4</td>\n",
       "      <td>0</td>\n",
       "      <td>2</td>\n",
       "      <td>4</td>\n",
       "      <td>0</td>\n",
       "      <td>0</td>\n",
       "      <td>0</td>\n",
       "      <td>0</td>\n",
       "      <td>0</td>\n",
       "      <td>0</td>\n",
       "    </tr>\n",
       "    <tr>\n",
       "      <th>3</th>\n",
       "      <td>0</td>\n",
       "      <td>1</td>\n",
       "      <td>6</td>\n",
       "      <td>0</td>\n",
       "      <td>0</td>\n",
       "      <td>1</td>\n",
       "      <td>0</td>\n",
       "      <td>0</td>\n",
       "      <td>0</td>\n",
       "      <td>0</td>\n",
       "      <td>...</td>\n",
       "      <td>5</td>\n",
       "      <td>1</td>\n",
       "      <td>0</td>\n",
       "      <td>5</td>\n",
       "      <td>1</td>\n",
       "      <td>0</td>\n",
       "      <td>1</td>\n",
       "      <td>0</td>\n",
       "      <td>0</td>\n",
       "      <td>0</td>\n",
       "    </tr>\n",
       "    <tr>\n",
       "      <th>4</th>\n",
       "      <td>5</td>\n",
       "      <td>1</td>\n",
       "      <td>7</td>\n",
       "      <td>0</td>\n",
       "      <td>0</td>\n",
       "      <td>0</td>\n",
       "      <td>0</td>\n",
       "      <td>0</td>\n",
       "      <td>1</td>\n",
       "      <td>0</td>\n",
       "      <td>...</td>\n",
       "      <td>4</td>\n",
       "      <td>0</td>\n",
       "      <td>0</td>\n",
       "      <td>4</td>\n",
       "      <td>0</td>\n",
       "      <td>1</td>\n",
       "      <td>1</td>\n",
       "      <td>0</td>\n",
       "      <td>0</td>\n",
       "      <td>1</td>\n",
       "    </tr>\n",
       "  </tbody>\n",
       "</table>\n",
       "<p>5 rows × 57 columns</p>\n",
       "</div>"
      ],
      "text/plain": [
       "    ps_ind_01  ps_ind_02_cat  ps_ind_03  ps_ind_04_cat  ps_ind_05_cat  \\\n",
       "id                                                                      \n",
       "0           0              1          8              1              0   \n",
       "1           4              2          5              1              0   \n",
       "2           5              1          3              0              0   \n",
       "3           0              1          6              0              0   \n",
       "4           5              1          7              0              0   \n",
       "\n",
       "    ps_ind_06_bin  ps_ind_07_bin  ps_ind_08_bin  ps_ind_09_bin  ps_ind_10_bin  \\\n",
       "id                                                                              \n",
       "0               0              1              0              0              0   \n",
       "1               0              0              0              1              0   \n",
       "2               0              0              0              1              0   \n",
       "3               1              0              0              0              0   \n",
       "4               0              0              0              1              0   \n",
       "\n",
       "    ...  ps_calc_11  ps_calc_12  ps_calc_13  ps_calc_14  ps_calc_15_bin  \\\n",
       "id  ...                                                                   \n",
       "0   ...           1           1           1          12               0   \n",
       "1   ...           2           0           3          10               0   \n",
       "2   ...           4           0           2           4               0   \n",
       "3   ...           5           1           0           5               1   \n",
       "4   ...           4           0           0           4               0   \n",
       "\n",
       "    ps_calc_16_bin  ps_calc_17_bin  ps_calc_18_bin  ps_calc_19_bin  \\\n",
       "id                                                                   \n",
       "0                1               1               0               0   \n",
       "1                0               1               1               0   \n",
       "2                0               0               0               0   \n",
       "3                0               1               0               0   \n",
       "4                1               1               0               0   \n",
       "\n",
       "    ps_calc_20_bin  \n",
       "id                  \n",
       "0                1  \n",
       "1                1  \n",
       "2                0  \n",
       "3                0  \n",
       "4                1  \n",
       "\n",
       "[5 rows x 57 columns]"
      ]
     },
     "execution_count": 42,
     "metadata": {},
     "output_type": "execute_result"
    }
   ],
   "source": [
    "test_data = pd.read_csv(os.path.join('test.csv')).set_index('id')\n",
    "#insurance_data = pd.read_csv(os.path.join('porto','train.csv')).set_index('id')\n",
    "test_data.head()"
   ]
  },
  {
   "cell_type": "code",
   "execution_count": 45,
   "metadata": {
    "ExecuteTime": {
     "end_time": "2021-03-08T14:34:02.953162Z",
     "start_time": "2021-03-08T14:33:57.693741Z"
    }
   },
   "outputs": [
    {
     "name": "stdout",
     "output_type": "stream",
     "text": [
      "(892816, 57) (892816, 244)\n"
     ]
    }
   ],
   "source": [
    "X_test = preprocessor.fit_transform(test_data)\n",
    "print(test_data.shape, X_test.shape)"
   ]
  },
  {
   "cell_type": "code",
   "execution_count": 47,
   "metadata": {
    "ExecuteTime": {
     "end_time": "2021-03-08T14:35:05.789082Z",
     "start_time": "2021-03-08T14:34:47.264516Z"
    }
   },
   "outputs": [
    {
     "data": {
      "text/html": [
       "<div>\n",
       "<style scoped>\n",
       "    .dataframe tbody tr th:only-of-type {\n",
       "        vertical-align: middle;\n",
       "    }\n",
       "\n",
       "    .dataframe tbody tr th {\n",
       "        vertical-align: top;\n",
       "    }\n",
       "\n",
       "    .dataframe thead th {\n",
       "        text-align: right;\n",
       "    }\n",
       "</style>\n",
       "<table border=\"1\" class=\"dataframe\">\n",
       "  <thead>\n",
       "    <tr style=\"text-align: right;\">\n",
       "      <th></th>\n",
       "      <th>target</th>\n",
       "    </tr>\n",
       "    <tr>\n",
       "      <th>id</th>\n",
       "      <th></th>\n",
       "    </tr>\n",
       "  </thead>\n",
       "  <tbody>\n",
       "    <tr>\n",
       "      <th>0</th>\n",
       "      <td>0.607529</td>\n",
       "    </tr>\n",
       "    <tr>\n",
       "      <th>1</th>\n",
       "      <td>0.716000</td>\n",
       "    </tr>\n",
       "    <tr>\n",
       "      <th>2</th>\n",
       "      <td>0.559679</td>\n",
       "    </tr>\n",
       "    <tr>\n",
       "      <th>3</th>\n",
       "      <td>0.147453</td>\n",
       "    </tr>\n",
       "    <tr>\n",
       "      <th>4</th>\n",
       "      <td>0.463599</td>\n",
       "    </tr>\n",
       "    <tr>\n",
       "      <th>...</th>\n",
       "      <td>...</td>\n",
       "    </tr>\n",
       "    <tr>\n",
       "      <th>1488022</th>\n",
       "      <td>0.940000</td>\n",
       "    </tr>\n",
       "    <tr>\n",
       "      <th>1488023</th>\n",
       "      <td>0.940000</td>\n",
       "    </tr>\n",
       "    <tr>\n",
       "      <th>1488024</th>\n",
       "      <td>0.651733</td>\n",
       "    </tr>\n",
       "    <tr>\n",
       "      <th>1488025</th>\n",
       "      <td>0.685320</td>\n",
       "    </tr>\n",
       "    <tr>\n",
       "      <th>1488026</th>\n",
       "      <td>0.906250</td>\n",
       "    </tr>\n",
       "  </tbody>\n",
       "</table>\n",
       "<p>892816 rows × 1 columns</p>\n",
       "</div>"
      ],
      "text/plain": [
       "           target\n",
       "id               \n",
       "0        0.607529\n",
       "1        0.716000\n",
       "2        0.559679\n",
       "3        0.147453\n",
       "4        0.463599\n",
       "...           ...\n",
       "1488022  0.940000\n",
       "1488023  0.940000\n",
       "1488024  0.651733\n",
       "1488025  0.685320\n",
       "1488026  0.906250\n",
       "\n",
       "[892816 rows x 1 columns]"
      ]
     },
     "execution_count": 47,
     "metadata": {},
     "output_type": "execute_result"
    }
   ],
   "source": [
    "submission = pd.read_csv(os.path.join('./', 'sample_submission.csv')).set_index('id')\n",
    "submission['target'] = GS.predict_proba(X_test)[:, 1]\n",
    "submission"
   ]
  },
  {
   "cell_type": "code",
   "execution_count": 4,
   "metadata": {
    "ExecuteTime": {
     "end_time": "2021-03-09T11:31:45.600358Z",
     "start_time": "2021-03-09T11:31:45.294297Z"
    }
   },
   "outputs": [
    {
     "ename": "NameError",
     "evalue": "name 'submission' is not defined",
     "output_type": "error",
     "traceback": [
      "\u001b[1;31m---------------------------------------------------------------------------\u001b[0m",
      "\u001b[1;31mNameError\u001b[0m                                 Traceback (most recent call last)",
      "\u001b[1;32m<ipython-input-4-f28008d66acd>\u001b[0m in \u001b[0;36m<module>\u001b[1;34m\u001b[0m\n\u001b[1;32m----> 1\u001b[1;33m \u001b[0msubmission\u001b[0m\u001b[1;33m.\u001b[0m\u001b[0mto_csv\u001b[0m\u001b[1;33m(\u001b[0m\u001b[1;34m'./my_submission_7_rfc.csv'\u001b[0m\u001b[1;33m)\u001b[0m\u001b[1;33m\u001b[0m\u001b[1;33m\u001b[0m\u001b[0m\n\u001b[0m",
      "\u001b[1;31mNameError\u001b[0m: name 'submission' is not defined"
     ]
    }
   ],
   "source": [
    "submission.to_csv('./my_submission_1_rfc.csv')"
   ]
  },
  {
   "cell_type": "markdown",
   "metadata": {},
   "source": [
    "**Скорр на тесте 0.18. Я может еще поковыряюсь в чем дело и выложу отдельным ноутбуком, без оценки.**"
   ]
  },
  {
   "cell_type": "markdown",
   "metadata": {
    "id": "ZI0l3mj6uwLg"
   },
   "source": [
    "**(0.5 points + Y bonus points)** Try different approaches: oversampling / undersampling, careful feature analysis and feature engineering, etc., to get a reasonable pipeline and improve the model quality. Use cross-validation for model evaluation.\n",
    "\n",
    "Select the best model, load the test set and make the predictions. Submit them to kaggle.\n",
    "Y bonus points will be calculated as $\\frac{round(200 * \\max(score - 0.253, 0))}{2}$, where *score* is your kaggle leaderboard score.\n",
    "\n",
    "Note: do not use any classification models which have not been covered in the lessons yet."
   ]
  }
 ],
 "metadata": {
  "colab": {
   "collapsed_sections": [],
   "name": "classification_Porto_Nikishin.ipynb",
   "provenance": []
  },
  "kernelspec": {
   "display_name": "Python 3",
   "language": "python",
   "name": "python3"
  },
  "language_info": {
   "codemirror_mode": {
    "name": "ipython",
    "version": 3
   },
   "file_extension": ".py",
   "mimetype": "text/x-python",
   "name": "python",
   "nbconvert_exporter": "python",
   "pygments_lexer": "ipython3",
   "version": "3.7.9"
  },
  "toc": {
   "base_numbering": 1,
   "nav_menu": {},
   "number_sections": true,
   "sideBar": true,
   "skip_h1_title": false,
   "title_cell": "Table of Contents",
   "title_sidebar": "Contents",
   "toc_cell": false,
   "toc_position": {},
   "toc_section_display": true,
   "toc_window_display": true
  }
 },
 "nbformat": 4,
 "nbformat_minor": 1
}
